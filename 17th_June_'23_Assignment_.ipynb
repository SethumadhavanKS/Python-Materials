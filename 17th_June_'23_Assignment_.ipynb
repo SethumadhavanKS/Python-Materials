{
  "nbformat": 4,
  "nbformat_minor": 0,
  "metadata": {
    "colab": {
      "provenance": []
    },
    "kernelspec": {
      "name": "python3",
      "display_name": "Python 3"
    },
    "language_info": {
      "name": "python"
    }
  },
  "cells": [
    {
      "cell_type": "code",
      "execution_count": null,
      "metadata": {
        "id": "duoAKf34OvM9"
      },
      "outputs": [],
      "source": [
        "'''\n",
        "1. What is the role of try and exception block?\n",
        "Ans:\n",
        "try exceptions block are used to handle run time errors in code.\n",
        "By exception handling, we can prevent program crashing while running.\n",
        " Code that likely to throw an error / exceptions should put inside try block.\n",
        " If any exceptions occured, except block will exceute. The code that need to execute only if exception occured can give inside except block.\n",
        "\n",
        "'''"
      ]
    },
    {
      "cell_type": "code",
      "source": [
        "'''\n",
        "2. What is the syntax for a basic try-except block?\n",
        "\n",
        "Ans:\n",
        "Leyword try is used to specify try block and except is used to specify except block\n",
        "\n",
        "syntax:\n",
        "\n",
        "try:\n",
        "  # Try block code\n",
        "except:\n",
        "  #  Except block code\n",
        "\n",
        "'''"
      ],
      "metadata": {
        "id": "AnaDg369QF0Y"
      },
      "execution_count": null,
      "outputs": []
    },
    {
      "cell_type": "code",
      "source": [
        "# Try except example\n",
        "a = 1\n",
        "b = 0\n",
        "try:\n",
        "  s = a/b\n",
        "except:\n",
        "  print(\"Error occured\")"
      ],
      "metadata": {
        "colab": {
          "base_uri": "https://localhost:8080/"
        },
        "id": "K4fy0si0QXKl",
        "outputId": "047110fe-fe8a-4a86-f9db-c340dd780430"
      },
      "execution_count": 1,
      "outputs": [
        {
          "output_type": "stream",
          "name": "stdout",
          "text": [
            "Error occured\n"
          ]
        }
      ]
    },
    {
      "cell_type": "code",
      "source": [
        "'''\n",
        "3. What happens if an exception occurs inside a try block and there is no matching\n",
        "except block?\n",
        "\n",
        "Ans:\n",
        "If there is not matching exception block to handle an error in try block,\n",
        "then the program will crash and we will get an error\n",
        "\n",
        "'''"
      ],
      "metadata": {
        "id": "Sr-dezOWQl0L"
      },
      "execution_count": null,
      "outputs": []
    },
    {
      "cell_type": "code",
      "source": [
        "'''\n",
        "4. What is the difference between using a bare except block and specifying a specific\n",
        "exception type?\n",
        "\n",
        "Ans:\n",
        "By using except block specifying an exception type, we can efficiently handle the error occured.\n",
        "For bare except block, we have to add code that will be applicable for all type of exception , not for any specific exception\n",
        "For example, if we are using a bare except block without specifying exception type, then we can add a statement to print 'Error occured' in except block,we cant add details like what is the error or how to resolve error.\n",
        "\n",
        "If we are using a except block specifying Zero division error, then we can add custom message for that type of error ,\n",
        "like 'Use a non zero value as denominator', so it will give more clarit to the issue.\n",
        "\n",
        "'''"
      ],
      "metadata": {
        "id": "dGgv-rMQRSvB"
      },
      "execution_count": null,
      "outputs": []
    },
    {
      "cell_type": "code",
      "source": [
        "'''\n",
        "5. Can you have nested try-except blocks in Python? If yes, then give an example.\n",
        "\n",
        "Ans:\n",
        "Yes, python supports nested try except block\n",
        "'''"
      ],
      "metadata": {
        "id": "u2T8pDNRSup7"
      },
      "execution_count": null,
      "outputs": []
    },
    {
      "cell_type": "code",
      "source": [
        "# Nested try except\n",
        "\n",
        "a = 10\n",
        "b = 10\n",
        "del a\n",
        "try:\n",
        "   print(a/b)\n",
        "except:\n",
        "  try:  # Nested try except\n",
        "    print(a)\n",
        "  except:\n",
        "    print(\"No a\")\n",
        "  try:\n",
        "    print(b)\n",
        "  except:\n",
        "    print(\"No b\")"
      ],
      "metadata": {
        "colab": {
          "base_uri": "https://localhost:8080/"
        },
        "id": "ZUVaFCb0TXX9",
        "outputId": "f99ce21a-e691-494c-e975-6bde26018b6b"
      },
      "execution_count": 11,
      "outputs": [
        {
          "output_type": "stream",
          "name": "stdout",
          "text": [
            "No a\n",
            "10\n"
          ]
        }
      ]
    },
    {
      "cell_type": "code",
      "source": [
        "'''\n",
        "6. Can we use multiple exception blocks, if yes then give an example.\n",
        "\n",
        "Ans:\n",
        "Yes, we can use multiple except block for multiple type of exception\n",
        "\n",
        "'''"
      ],
      "metadata": {
        "id": "9LqMmtdyUaUn"
      },
      "execution_count": null,
      "outputs": []
    },
    {
      "cell_type": "code",
      "source": [
        "try:\n",
        "  num1 = int(input(\"Enter num 1: \"))\n",
        "  num2 = int(input(\"Enter num 2: \"))\n",
        "  rslt = num1/num2\n",
        "  print(f'Result is {rslt}')\n",
        "except ZeroDivisionError:\n",
        "  print(\"Denominator should be non 0\")\n",
        "except ValueError:\n",
        "  print(\"Input should be integer\")"
      ],
      "metadata": {
        "colab": {
          "base_uri": "https://localhost:8080/"
        },
        "id": "W1S1Du6xUkuo",
        "outputId": "8b10db80-4346-43da-ed7c-167a2b4268e0"
      },
      "execution_count": 6,
      "outputs": [
        {
          "output_type": "stream",
          "name": "stdout",
          "text": [
            "Enter num 1: 12\n",
            "Enter num 2: aa\n",
            "Input should be integer\n"
          ]
        }
      ]
    },
    {
      "cell_type": "code",
      "source": [
        "'''\n",
        "7. Write the reason due to which following errors are raised:\n",
        "a. EOFError\n",
        "b. FloatingPointError\n",
        "c. IndexError\n",
        "d. MemoryError\n",
        "e. OverflowError\n",
        "f. TabError\n",
        "g. ValueError\n",
        "\n",
        "Ans:\n",
        "a. EOFError - Raised when  when the input() function hits end of file condition\n",
        "b. FloatingPointError - Raised when floating point operation fail.\n",
        "c. IndexError - Raised when the index of a data structure (list , tuple etc) is out of range.\n",
        "d. MemoryError - Raised when an operation runs out of memory.\n",
        "e. OverflowError - Raised when the result of an arithmetic operation is too large to be represented.\n",
        "f. TabError - Raised when indentation consists of inconsistent tabs and spaces.\n",
        "g. ValueError - Raised when a function gets an argument of correct type but improper value.\n",
        "'''"
      ],
      "metadata": {
        "id": "h2U_G1k1Vx0c"
      },
      "execution_count": null,
      "outputs": []
    },
    {
      "cell_type": "code",
      "source": [
        "'''\n",
        "8. Write code for the following given scenario and add try-exception block to it.\n",
        "a. Program to divide two numbers\n",
        "b. Program to convert a string to an integer\n",
        "c. Program to access an element in a list\n",
        "d. Program to handle a specific exception\n",
        "e. Program to handle any exception\n",
        "\n",
        "Ans'''\n"
      ],
      "metadata": {
        "id": "0tVF5lsdXBaT"
      },
      "execution_count": null,
      "outputs": []
    },
    {
      "cell_type": "code",
      "source": [
        "# Code for exception handing\n",
        "\n",
        "num1 = 3\n",
        "num2 = 2\n",
        "str1 = '12'\n",
        "lst = [0,1,3]\n",
        "\n",
        "try:\n",
        "  rslt = num1 / num2 # Divide two numbers\n",
        "  num3 = int(str1) # String to integer\n",
        "  elem = lst[3] # Access an element in list\n",
        "  print(f'Result: {rslt}')\n",
        "  print(f'String to integer {num3}')\n",
        "  print(f'List elelemt {elem}')\n",
        "\n",
        "except IndexError: # Handle specific error\n",
        "  print(\"List index not existing\")\n",
        "except:\n",
        "  print(\"Error occured\")\n",
        "\n",
        "\n"
      ],
      "metadata": {
        "colab": {
          "base_uri": "https://localhost:8080/"
        },
        "id": "0X81_iYYXIAb",
        "outputId": "0c98e930-640a-45df-a945-c4b795e20234"
      },
      "execution_count": 12,
      "outputs": [
        {
          "output_type": "stream",
          "name": "stdout",
          "text": [
            "List index not existing\n"
          ]
        }
      ]
    }
  ]
}