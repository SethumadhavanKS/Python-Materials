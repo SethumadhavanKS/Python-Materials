{
  "nbformat": 4,
  "nbformat_minor": 0,
  "metadata": {
    "colab": {
      "provenance": []
    },
    "kernelspec": {
      "name": "python3",
      "display_name": "Python 3"
    },
    "language_info": {
      "name": "python"
    }
  },
  "cells": [
    {
      "cell_type": "code",
      "execution_count": null,
      "metadata": {
        "id": "vm3VJ2hVpUvN"
      },
      "outputs": [],
      "source": [
        "'''\n",
        "1. What is a lambda function in Python, and how does it differ from a regular function?\n",
        "\n",
        "Ans: Lambda function is a special type of functions in python, they are simple and single line functions.\n",
        "They can't have complex loops or complex code in function defenition.\n",
        "No need to use def keyword to define lambda function, insted lambda keyword is used.\n",
        "Lambd functions are used inside map(), filter(), sorted() functions.\n",
        "\n",
        "eg:\n",
        "'''\n",
        "\n"
      ]
    },
    {
      "cell_type": "code",
      "source": [
        "# Square using lambda\n",
        "sqr = lambda x: x ** 2\n",
        "print(sqr(4))"
      ],
      "metadata": {
        "colab": {
          "base_uri": "https://localhost:8080/"
        },
        "id": "cxmpNKKIpbdc",
        "outputId": "58557d92-6f06-4b02-f93e-72bd82f0968c"
      },
      "execution_count": 48,
      "outputs": [
        {
          "output_type": "stream",
          "name": "stdout",
          "text": [
            "16\n"
          ]
        }
      ]
    },
    {
      "cell_type": "code",
      "source": [
        "'''\n",
        "2. Can a lambda function in Python have multiple arguments? If yes, how can you define and use\n",
        "them?\n",
        "\n",
        "Ans: Yes, lambda function can have multiple arguments, we can define lamda function using keyword lambda and we can give thhe arguments after lambda keyword\n",
        "\n",
        "eg:\n",
        "'''\n"
      ],
      "metadata": {
        "id": "Pm2zQSRwprJF"
      },
      "execution_count": null,
      "outputs": []
    },
    {
      "cell_type": "code",
      "source": [
        "# Lambda function having 2 arguments\n",
        "add = lambda x, y : x + y\n",
        "print(add(10, 20))"
      ],
      "metadata": {
        "colab": {
          "base_uri": "https://localhost:8080/"
        },
        "id": "oQtV5K_OqOla",
        "outputId": "67e9d5e8-87c3-474d-e3e1-95cff4f85f9d"
      },
      "execution_count": 2,
      "outputs": [
        {
          "output_type": "stream",
          "name": "stdout",
          "text": [
            "30\n"
          ]
        }
      ]
    },
    {
      "cell_type": "code",
      "source": [
        "'''\n",
        "3. How are lambda functions typically used in Python? Provide an example use case.\n",
        "\n",
        "Ans: Lambda functions can implement simple fuctionalities in a single line of code.\n",
        "it is typically used with map(), sorted() functions\n",
        "\n",
        "eg:\n",
        "'''\n"
      ],
      "metadata": {
        "id": "VGqQDKpqqVya"
      },
      "execution_count": null,
      "outputs": []
    },
    {
      "cell_type": "code",
      "source": [
        "#Sorting list based on dictionary key value price\n",
        "products = [{'name':'Phone','Price':1000},{'name':'Laptop','Price':40000},{'name':'TV','Price':22000}]\n",
        "\n",
        "sorted_products = sorted(products, key = lambda x : x['Price'])\n",
        "print(\"Soreted list is:\", sorted_products)"
      ],
      "metadata": {
        "colab": {
          "base_uri": "https://localhost:8080/"
        },
        "id": "GiMRpsBErkUQ",
        "outputId": "34e6d411-ca21-4e57-ea2a-a5008502e195"
      },
      "execution_count": 3,
      "outputs": [
        {
          "output_type": "stream",
          "name": "stdout",
          "text": [
            "Soreted list is: [{'name': 'Phone', 'Price': 1000}, {'name': 'TV', 'Price': 22000}, {'name': 'Laptop', 'Price': 40000}]\n"
          ]
        }
      ]
    },
    {
      "cell_type": "code",
      "source": [
        "'''\n",
        "4. What are the advantages and limitations of lambda functions compared to regular functions in\n",
        "Python?\n",
        "\n",
        "Ans:\n",
        "Advantages of lambda functions are:\n",
        "Lambda function helps to keep code more shorter.\n",
        "We can pass lambda function to another functions just as we pass variables\n",
        "Lambda functions are anonymous functions\n",
        "\n",
        "Limitations are:\n",
        "labda functions cannot have complex loops or complex if else statements\n",
        "Lambda functions cannot have docstring\n",
        "It affects the readability of code\n",
        "Cannot contain multiple expressions'''\n"
      ],
      "metadata": {
        "id": "H8IcG_Wgsd71"
      },
      "execution_count": null,
      "outputs": []
    },
    {
      "cell_type": "code",
      "source": [
        "'''\n",
        "5. Are lambda functions in Python able to access variables defined outside of their own scope?\n",
        "Explain with an example.\n",
        "\n",
        "Ans: Yes, lambda functions can access variables defines in the functions scopes and variables outside functions scope.\n",
        "In the below example, num is a global variable that lambda can access\n",
        "\n",
        "'''\n"
      ],
      "metadata": {
        "id": "-L6vvhHkt5Vl"
      },
      "execution_count": null,
      "outputs": []
    },
    {
      "cell_type": "code",
      "source": [
        "# Function to find cube of a number\n",
        "num = 3\n",
        "\n",
        "cube = lambda x: x**num\n",
        "cube(2)"
      ],
      "metadata": {
        "colab": {
          "base_uri": "https://localhost:8080/"
        },
        "id": "oj-BynIQvRHQ",
        "outputId": "0282a66f-fb60-4531-a4db-47a84c3db797"
      },
      "execution_count": 5,
      "outputs": [
        {
          "output_type": "execute_result",
          "data": {
            "text/plain": [
              "8"
            ]
          },
          "metadata": {},
          "execution_count": 5
        }
      ]
    },
    {
      "cell_type": "code",
      "source": [
        "'''\n",
        "6. Write a lambda function to calculate the square of a given number.\n",
        "Ans:\n",
        "'''\n"
      ],
      "metadata": {
        "id": "FuryLjJQwVMP"
      },
      "execution_count": null,
      "outputs": []
    },
    {
      "cell_type": "code",
      "source": [
        "# Square using lambda\n",
        "sqr = lambda x: x ** 2\n",
        "print(sqr(3))"
      ],
      "metadata": {
        "colab": {
          "base_uri": "https://localhost:8080/"
        },
        "id": "n2c52xGtwZKK",
        "outputId": "02ee5a11-b379-49a1-8e77-221710ebfa2c"
      },
      "execution_count": 49,
      "outputs": [
        {
          "output_type": "stream",
          "name": "stdout",
          "text": [
            "9\n"
          ]
        }
      ]
    },
    {
      "cell_type": "code",
      "source": [
        "'''\n",
        "7. Create a lambda function to find the maximum value in a list of integers.\n",
        "\n",
        "Ans:\n",
        "'''\n"
      ],
      "metadata": {
        "id": "joR104HcwiJa"
      },
      "execution_count": null,
      "outputs": []
    },
    {
      "cell_type": "code",
      "source": [
        "# Maximum value in list usng lambda\n",
        "from functools import reduce\n",
        "\n",
        "lst = [2,4,3,6,8,44,3,]\n",
        "\n",
        "maximum = reduce(lambda x, y: x if (x > y) else y, lst)\n",
        "print(\"Maximum value in list is \", maximum)"
      ],
      "metadata": {
        "colab": {
          "base_uri": "https://localhost:8080/"
        },
        "id": "SQjpWfL4xBtD",
        "outputId": "271ccd8f-df5a-4c8c-e6bd-89fb995c3dab"
      },
      "execution_count": 50,
      "outputs": [
        {
          "output_type": "stream",
          "name": "stdout",
          "text": [
            "Maximum value in list is  44\n"
          ]
        }
      ]
    },
    {
      "cell_type": "code",
      "source": [
        "'''\n",
        "8. Implement a lambda function to filter out all the even numbers from a list of integers.\n",
        "\n",
        "Ans:\n",
        "'''\n"
      ],
      "metadata": {
        "id": "KL0H4eTqz5h1"
      },
      "execution_count": null,
      "outputs": []
    },
    {
      "cell_type": "code",
      "source": [
        "# Even numbers in list using lambda\n",
        "\n",
        "lst = [2,4,3,6,8,44,3,]\n",
        "\n",
        "even_nums = list(filter(lambda x: x%2 == 0, lst))\n",
        "print(f'Even numbers in list are {even_nums}')"
      ],
      "metadata": {
        "colab": {
          "base_uri": "https://localhost:8080/"
        },
        "id": "-aK1i3ht0CbV",
        "outputId": "a0b7b8fe-b523-4542-d576-87d4b06fea6a"
      },
      "execution_count": 51,
      "outputs": [
        {
          "output_type": "stream",
          "name": "stdout",
          "text": [
            "Even numbers in list are [2, 4, 6, 8, 44]\n"
          ]
        }
      ]
    },
    {
      "cell_type": "code",
      "source": [
        "'''\n",
        "9. Write a lambda function to sort a list of strings in ascending order based on the length of each\n",
        "string.\n",
        "Ans:\n",
        "\n",
        "'''\n"
      ],
      "metadata": {
        "id": "wIeDCzJV0k8_"
      },
      "execution_count": null,
      "outputs": []
    },
    {
      "cell_type": "code",
      "source": [
        "# Sorting list of strings by length using lambda\n",
        "\n",
        "strings = [\"Mango\",\"Pie\", \"Cake\", \"PineApple\"]\n",
        "\n",
        "sorted_strings = sorted(strings, key = lambda x : len(x))\n",
        "print(f'Sorted list of strings: {sorted_strings}')"
      ],
      "metadata": {
        "colab": {
          "base_uri": "https://localhost:8080/"
        },
        "id": "JZ_4j1x40ngb",
        "outputId": "87431903-93c9-4115-b4d0-46beafa2dea3"
      },
      "execution_count": 52,
      "outputs": [
        {
          "output_type": "stream",
          "name": "stdout",
          "text": [
            "Sorted list of strings: ['Pie', 'Cake', 'Mango', 'PineApple']\n"
          ]
        }
      ]
    },
    {
      "cell_type": "code",
      "source": [
        "'''\n",
        "10. Create a lambda function that takes two lists as input and returns a new list containing the\n",
        "common elements between the two lists.\n",
        "\n",
        "Ans:\n",
        "'''\n"
      ],
      "metadata": {
        "id": "gwgtpHuu1Hnr"
      },
      "execution_count": null,
      "outputs": []
    },
    {
      "cell_type": "code",
      "source": [
        "# Common elements of 2 list using lambda\n",
        "\n",
        "lst1 = [1, 2, 5, 6, 4]\n",
        "lst2 = [9, 8, 1, 5, 10]\n",
        "common = lambda lst1, lst2: [ x for x in lst1 if x in lst2]\n",
        "print(f'List of common elements {common(lst1,lst2)}')"
      ],
      "metadata": {
        "colab": {
          "base_uri": "https://localhost:8080/"
        },
        "id": "Le9HMumT1Pwd",
        "outputId": "106d93c5-031c-4ccf-9e4a-1113e7826bb8"
      },
      "execution_count": 53,
      "outputs": [
        {
          "output_type": "stream",
          "name": "stdout",
          "text": [
            "List of common elements [1, 5]\n"
          ]
        }
      ]
    },
    {
      "cell_type": "code",
      "source": [
        "'''\n",
        "11. Write a recursive function to calculate the factorial of a given positive integer.\n",
        "\n",
        "Ans:\n",
        "'''\n"
      ],
      "metadata": {
        "id": "uSm21ESq7P7x"
      },
      "execution_count": null,
      "outputs": []
    },
    {
      "cell_type": "code",
      "source": [
        "# Factorial using reccursion\n",
        "num = 7\n",
        "\n",
        "def fact(num):\n",
        "  if num == 1 :\n",
        "    return 1\n",
        "  else:\n",
        "    return num * fact(num - 1)\n",
        "\n",
        "f = fact(num)\n",
        "print(f'Factorial of {num} is {f}')"
      ],
      "metadata": {
        "colab": {
          "base_uri": "https://localhost:8080/"
        },
        "id": "Ois8DA2y7Ve8",
        "outputId": "9d37072b-bfbd-427e-95d5-c5294f8aee6d"
      },
      "execution_count": 54,
      "outputs": [
        {
          "output_type": "stream",
          "name": "stdout",
          "text": [
            "Factorial of 7 is 5040\n"
          ]
        }
      ]
    },
    {
      "cell_type": "code",
      "source": [
        "'''\n",
        "12. Implement a recursive function to compute the nth Fibonacci number.\n",
        "\n",
        "Ans:\n",
        "'''\n",
        "\n"
      ],
      "metadata": {
        "id": "t6N6Jtur8AU5"
      },
      "execution_count": null,
      "outputs": []
    },
    {
      "cell_type": "code",
      "source": [
        "  # Function to find nth element of fibonacci\n",
        "  def fib(n):\n",
        "    if n <=1:\n",
        "      return n\n",
        "    else:\n",
        "      return fib(n-1) + fib(n-2)\n",
        "  num = 6\n",
        "  fibNum = fib(num)\n",
        "  print(f\"fibbonacci number in position {num} is {fibNum}\")"
      ],
      "metadata": {
        "colab": {
          "base_uri": "https://localhost:8080/"
        },
        "id": "FCbFpHc68EoW",
        "outputId": "07698b45-3c10-4451-c260-6d931920387a"
      },
      "execution_count": 61,
      "outputs": [
        {
          "output_type": "stream",
          "name": "stdout",
          "text": [
            "fibbonacci number in position 6 is 8\n"
          ]
        }
      ]
    },
    {
      "cell_type": "code",
      "source": [
        "'''\n",
        "13. Create a recursive function to find the sum of all the elements in a given list.\n",
        "\n",
        "Ans:\n",
        "'''\n"
      ],
      "metadata": {
        "id": "EVr5-pua8-iN"
      },
      "execution_count": null,
      "outputs": []
    },
    {
      "cell_type": "code",
      "source": [
        "# Sum of elements in list using reccursion\n",
        "def sum(lst):\n",
        "    if len(lst)==0:\n",
        "        return 0\n",
        "    else:\n",
        "        return lst[0] + sum(lst[1:]) # Reccursion\n",
        "lst = [1, 3, 4, 2, 5]\n",
        "print(f'Sum of list {lst} is {sum(lst)}')"
      ],
      "metadata": {
        "colab": {
          "base_uri": "https://localhost:8080/"
        },
        "id": "Xg6gFDVQ9KK_",
        "outputId": "0aed9d90-e91e-43e2-d673-0cd95a5d855c"
      },
      "execution_count": 36,
      "outputs": [
        {
          "output_type": "stream",
          "name": "stdout",
          "text": [
            "Sum of list [1, 3, 4, 2, 5] is 15\n"
          ]
        }
      ]
    },
    {
      "cell_type": "code",
      "source": [
        "'''\n",
        "14. Write a recursive function to determine whether a given string is a palindrome.\n",
        "\n",
        "Ans:\n",
        "'''"
      ],
      "metadata": {
        "id": "UNbULTPs-fYz"
      },
      "execution_count": null,
      "outputs": []
    },
    {
      "cell_type": "code",
      "source": [
        "# Function to check String is palindrome or not\n",
        "\n",
        "def is_palindrome(s):\n",
        "    if len(s) < 1:\n",
        "        return True\n",
        "    else:\n",
        "        if s[0] == s[-1]:\n",
        "            return is_palindrome(s[1:-1]) # Reccursion\n",
        "        else:\n",
        "            return False\n",
        "a = 'malayalam'\n",
        "if is_palindrome(a):\n",
        "    print(\"String is a palindrome\")\n",
        "else:\n",
        "    print(\"String isn't a palindrome\")"
      ],
      "metadata": {
        "colab": {
          "base_uri": "https://localhost:8080/"
        },
        "id": "J8pQDNt8-j1C",
        "outputId": "5344594f-574c-4788-a651-87cd14957c1b"
      },
      "execution_count": 40,
      "outputs": [
        {
          "output_type": "stream",
          "name": "stdout",
          "text": [
            "String is a palindrome\n"
          ]
        }
      ]
    },
    {
      "cell_type": "code",
      "source": [
        "'''\n",
        "15. Implement a recursive function to find the greatest common divisor (GCD) of two positive integers.\n",
        "\n",
        "Ans\n",
        "'''"
      ],
      "metadata": {
        "id": "8lKPp5UM_adE"
      },
      "execution_count": null,
      "outputs": []
    },
    {
      "cell_type": "code",
      "source": [
        "#  Function to find GCD of 2 numbers\n",
        "def gcd(a, b):\n",
        "   if a == b:\n",
        "      return a\n",
        "   elif a < b:\n",
        "      return gcd(b, a)\n",
        "   else:\n",
        "      return gcd(b, a - b)\n",
        "\n",
        "a = 10\n",
        "b = 8\n",
        "print(f'GCD of {a} and {b} is {gcd(a, b)}')"
      ],
      "metadata": {
        "colab": {
          "base_uri": "https://localhost:8080/"
        },
        "id": "1ehsypex_gUa",
        "outputId": "94ab7254-92c1-4fce-f1e4-610e61f134df"
      },
      "execution_count": 47,
      "outputs": [
        {
          "output_type": "stream",
          "name": "stdout",
          "text": [
            "GCD of 10 and 8 is 2\n"
          ]
        }
      ]
    }
  ]
}