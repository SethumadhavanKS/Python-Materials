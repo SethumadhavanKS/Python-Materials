{
  "nbformat": 4,
  "nbformat_minor": 0,
  "metadata": {
    "colab": {
      "provenance": []
    },
    "kernelspec": {
      "name": "python3",
      "display_name": "Python 3"
    },
    "language_info": {
      "name": "python"
    }
  },
  "cells": [
    {
      "cell_type": "code",
      "execution_count": null,
      "metadata": {
        "id": "m51rEKYbMTQ5"
      },
      "outputs": [],
      "source": [
        "1. Why are functions advantageous to have in your programs?\n",
        "\n",
        "Ans:\n",
        "We can achieve code reusability through functions. If we want to execute same set of codes in multiple places of our code, we can give the code in a\n",
        "function and we can call that function when ever we want to execute those code.\n",
        "Also functions can improve code redability and make it easy to maintain.\n",
        "Keeping each functionality in seperate functions make the code more understandable and easy to maintain."
      ]
    },
    {
      "cell_type": "code",
      "source": [
        "2.When does the code in a function run: when it's specified or when it's called?\n",
        "\n",
        "Ans:\n",
        "Only when the function is called.\n",
        "\n"
      ],
      "metadata": {
        "id": "OTymVjUQM1uN"
      },
      "execution_count": null,
      "outputs": []
    },
    {
      "cell_type": "code",
      "source": [
        "3.What statement creates a function?\n",
        "\n",
        "Ans:\n",
        "def functionname(): statement creates a function.\n",
        "\n",
        "syntax: def functionname(arguments):\n",
        "          body\n",
        "          return\n"
      ],
      "metadata": {
        "id": "3UrTM1ijNx8g"
      },
      "execution_count": null,
      "outputs": []
    },
    {
      "cell_type": "code",
      "source": [
        "4. What is the difference between a function and a function call?\n",
        "\n",
        "Ans:\n",
        "Function is a block of code to do a particular task or implement a functionality.\n",
        "Function can be defined using keyword def followed functionnname.\n",
        "\n",
        "Function call is calling a function to execute it.\n",
        "Function will executed only when it is called"
      ],
      "metadata": {
        "id": "lncAt7cDOKH5"
      },
      "execution_count": null,
      "outputs": []
    },
    {
      "cell_type": "code",
      "source": [
        "5. How many global scopes are there in a Python program? How many local scopes?\n",
        "Ans: Variables outside all functions and blocks have global scopes and variables inside a function have local scope. Variables with local scopes can use only within that function .\n",
        "\n"
      ],
      "metadata": {
        "id": "2UuVJZDNOv3I"
      },
      "execution_count": null,
      "outputs": []
    },
    {
      "cell_type": "code",
      "source": [
        "6.What happens to variables in a local scope when the function call returns?\n",
        "\n",
        "Ans: Local varibles can exist only when the functions executed.\n",
        "When the function call returns, all the local ariables inside that function will be terminated and the memory allocated for local variables will be reused.\n"
      ],
      "metadata": {
        "id": "om9bViTnQH0i"
      },
      "execution_count": null,
      "outputs": []
    },
    {
      "cell_type": "code",
      "source": [
        "7. What is the concept of a return value? Is it possible to have a return value in an expression?\n",
        "\n",
        "Ans:\n",
        "return is used inside functions. A function can return a value and this value will be available where the function is called.\n",
        "return will be the last statment executed inside a function. That is statements after return stments are not executed.\n",
        "\n",
        "It is not possible to return a value in an expression\n"
      ],
      "metadata": {
        "id": "Ywl-lCCNQsiI"
      },
      "execution_count": null,
      "outputs": []
    },
    {
      "cell_type": "code",
      "source": [
        "8. If a function does not have a return statement, what is the return value of a call to that function?\n",
        "\n",
        "Ans : None"
      ],
      "metadata": {
        "id": "U17FkllKSVac"
      },
      "execution_count": null,
      "outputs": []
    },
    {
      "cell_type": "code",
      "source": [
        "9. How do you make a function variable refer to the global variable?\n",
        "\n",
        "Ans: We can use a global variable inside a functions using keyword global.\n",
        "eg: def add():\n",
        "      global a = 10\n",
        "\n",
        "Here a is a global variable, it can be accessed outside function add()\n",
        ""
      ],
      "metadata": {
        "id": "fcQPiI4XSetq"
      },
      "execution_count": null,
      "outputs": []
    },
    {
      "cell_type": "code",
      "source": [
        "10.What is the data type of None?\n",
        "\n",
        "Ans:\n",
        "Nonetype"
      ],
      "metadata": {
        "id": "mowY3JmTTZeO"
      },
      "execution_count": null,
      "outputs": []
    },
    {
      "cell_type": "code",
      "source": [
        "11. What does the sentence import areallyourpetsnamederic do?\n",
        "\n",
        "Ans: It will import module areallyourpetsnamederic in our code. All the functions or class or variables inside the module can be accessed."
      ],
      "metadata": {
        "id": "wYkc6n5VT1mR"
      },
      "execution_count": null,
      "outputs": []
    },
    {
      "cell_type": "code",
      "source": [
        "12.If you had a bacon() feature in a spam module, what would you call it after importing spam?\n",
        "\n",
        "Ans:\n",
        "spam.bacon()"
      ],
      "metadata": {
        "id": "MP9cgukBUWQc"
      },
      "execution_count": null,
      "outputs": []
    },
    {
      "cell_type": "code",
      "source": [
        "13.What can you do to save a programme from crashing if it encounters an error?\n",
        "\n",
        "Ans: We can use exception handling to avoid crashing programs from errors.\n",
        "Keep the code that likely to through errors inside try block and specify the actions taken inside except block when encounter an error .\n",
        "\n",
        "syntax: try:\n",
        "            # try block\n",
        "          except:\n",
        "            # except block"
      ],
      "metadata": {
        "id": "VYYapi6LUdLx"
      },
      "execution_count": null,
      "outputs": []
    },
    {
      "cell_type": "code",
      "source": [
        "14.What is the purpose of the try clause? What is the purpose of the except clause?\n",
        "\n",
        "Ans: try and except are used for exceptions handling.\n",
        "if we keep our code inside a try clause, incase any error occured, instead of crashing, code inside except clause will be executed.\n",
        "We can handle runtime errors or invalid user inputs etc using this.\n",
        "syntax: try:\n",
        "            # try block\n",
        "          except:\n",
        "            # except block"
      ],
      "metadata": {
        "id": "FS56TuChVFSb"
      },
      "execution_count": null,
      "outputs": []
    }
  ]
}