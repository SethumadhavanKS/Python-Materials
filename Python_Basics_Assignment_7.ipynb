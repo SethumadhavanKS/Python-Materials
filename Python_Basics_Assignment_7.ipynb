{
  "nbformat": 4,
  "nbformat_minor": 0,
  "metadata": {
    "colab": {
      "provenance": []
    },
    "kernelspec": {
      "name": "python3",
      "display_name": "Python 3"
    },
    "language_info": {
      "name": "python"
    }
  },
  "cells": [
    {
      "cell_type": "code",
      "execution_count": null,
      "metadata": {
        "id": "X9MfyzPy04pJ"
      },
      "outputs": [],
      "source": [
        "Q.1. Create two int type variables, apply addition, subtraction, division and multiplications\n",
        "and store the results in variables. Then print the data in the following format by calling the\n",
        "variables:\n",
        "First variable is __ & second variable is __.\n",
        "Addition: __ + __ = __\n",
        "Subtraction: __ - __ = __\n",
        "Multiplication: __ * __ = __\n",
        "Division: __ / __ = __\n",
        "\n",
        "Ans"
      ]
    },
    {
      "cell_type": "code",
      "source": [
        "var1 = 7\n",
        "var2 = 3\n",
        "print(f'First variable is {var1} & second variable is {var2}.')\n",
        "print(f'Addition: {var1} + {var2} = {var1 + var2}')\n",
        "print(f'Subtraction: {var1} - {var2} = {var1 - var2}')\n",
        "print(f'Multiplication: {var1} * {var2} = {var1 * var2}')\n",
        "print(f'Division: {var1} / {var2} = {var1 / var2}')"
      ],
      "metadata": {
        "colab": {
          "base_uri": "https://localhost:8080/"
        },
        "id": "ta-8VRa11Hx7",
        "outputId": "9bf90200-adbe-40f3-8509-6421d3258b90"
      },
      "execution_count": 6,
      "outputs": [
        {
          "output_type": "stream",
          "name": "stdout",
          "text": [
            "First variable is 7 & second variable is 3.\n",
            "Addition: 7 + 3 = 10\n",
            "Subtraction: 7 - 3 = 4\n",
            "Multiplication: 7 * 3 = 21\n",
            "Division: 7 / 3 = 2.3333333333333335\n"
          ]
        }
      ]
    },
    {
      "cell_type": "code",
      "source": [
        "Q.2. What is the difference between the following operators:\n",
        "(i) ‘/’ & ‘//’\n",
        "(ii) ‘**’ & ‘^’\n",
        "\n",
        "Ans: (i)\n",
        "'/' is the normal division operator. It will divide value in left by value in right side and gives a floating point value as result including decimal parts\n",
        "'//' is the floor division operator. It will divide value in left by value in right side and gives integer as result, it trims the decimal part of actual result\n",
        "eg: 7 / 3 is 2.33.\n",
        "7 // 3 is 2\n",
        "\n",
        "(ii) '**' is he exponential operator and ^ is the XOR operator.\n",
        "Exponential operator multiplies number with same number as many times specified in the left side.\n",
        "eg: 2 ** 3 is 2 * 2 * 2 = 8\n",
        "\n",
        "XOR is bitwise operator. It comppares each bit of 1st and 2nd operands and set corresponding result bit to 1 if both are different else set 0.\n",
        "eg: A XOR B is true if A and B are different, and false if they're the same"
      ],
      "metadata": {
        "id": "87tTWwdn1-fv"
      },
      "execution_count": null,
      "outputs": []
    },
    {
      "cell_type": "code",
      "source": [
        "Q.3. List the logical operators.\n",
        "\n",
        "Ans:\n",
        "(i) and - returns True if both conditions are true else returns false\n",
        "(ii) or - returns True if any of one condition is True else returns false\n",
        "(iii) not - returns True if condition is false , returns false if condition is True"
      ],
      "metadata": {
        "id": "HUOM0UFv42Q4"
      },
      "execution_count": null,
      "outputs": []
    },
    {
      "cell_type": "code",
      "source": [
        "from prompt_toolkit.filters.cli import renderer_height_is_known\n",
        "Q.4. Explain right shift operator and left shift operator with examples.\n",
        "\n",
        "Ans: >> - Right shift operator : Shift the bits of operand to right. Second operand specify how much it shift to right.\n",
        "  eg:10 >> 2 - Binary equalent of 10 is 1010, result is 0010 - Final result is 2\n",
        "\n",
        "<< - Left shift operator : Shift the bits of operand to left. Second operand specify how much it shift to left by adding 0 in right.\n",
        "  eg:10 << 2 - Binary equalent of 10 is 1010, result is 101000 - Final result is 40"
      ],
      "metadata": {
        "id": "NdIbK4jU5jqt"
      },
      "execution_count": null,
      "outputs": []
    },
    {
      "cell_type": "code",
      "source": [
        "print(10 >> 2)\n",
        "print(10 << 2)"
      ],
      "metadata": {
        "colab": {
          "base_uri": "https://localhost:8080/"
        },
        "id": "UMFROWEj8smB",
        "outputId": "1950556a-9187-4307-bd89-73ec73998ac5"
      },
      "execution_count": 12,
      "outputs": [
        {
          "output_type": "stream",
          "name": "stdout",
          "text": [
            "2\n",
            "40\n"
          ]
        }
      ]
    },
    {
      "cell_type": "code",
      "source": [
        "Q.5. Create a list containing int type data of length 15. Then write a code to check if 10 is\n",
        "present in the list or not.\n",
        "\n",
        "Ans:\n"
      ],
      "metadata": {
        "id": "tmOkt4yq9IvF"
      },
      "execution_count": null,
      "outputs": []
    },
    {
      "cell_type": "code",
      "source": [
        "lstNum = [1,2,3,4,5,6,7,8,9,10,11,12,13,14,15]\n",
        "if 10 in lstNum:\n",
        "  print(\"10 is present in list\")\n",
        "else:\n",
        "  print(\" 10 is not present in list\")"
      ],
      "metadata": {
        "colab": {
          "base_uri": "https://localhost:8080/"
        },
        "id": "omTQizog9Mro",
        "outputId": "f443b3a9-a08e-4b2c-c5d9-28cb392537e2"
      },
      "execution_count": 15,
      "outputs": [
        {
          "output_type": "stream",
          "name": "stdout",
          "text": [
            "10 is present in list\n"
          ]
        }
      ]
    }
  ]
}