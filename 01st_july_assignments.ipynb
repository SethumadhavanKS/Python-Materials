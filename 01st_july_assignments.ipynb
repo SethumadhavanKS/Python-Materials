{
  "nbformat": 4,
  "nbformat_minor": 0,
  "metadata": {
    "colab": {
      "provenance": []
    },
    "kernelspec": {
      "name": "python3",
      "display_name": "Python 3"
    },
    "language_info": {
      "name": "python"
    }
  },
  "cells": [
    {
      "cell_type": "code",
      "execution_count": null,
      "metadata": {
        "id": "C_y3wL3TaG_b"
      },
      "outputs": [],
      "source": [
        "'''\n",
        "1. What is the primary goal of Object-Oriented Programming (OOP)?\n",
        "\n",
        "Ans:\n",
        "The ultimate goal of OOP is data security and code adaptability. In functional programming, the data or variables used are not secured, it is accessible by anyone.\n",
        "OOPS bind data members and associated methods inside a class, so that the data are accessible only by the methods.\n",
        "Also OOPS bring programming more close to real world scenaios.\n",
        "\n",
        "Main elements of OOPs are classes and onjects. We can access the class methods by creaing an object of the class. Class act as a blue print of objects\n",
        "\n",
        "Code adaptability is another important goal of OOPS. We need to make lot of changes in our software system as per changing requirements. OOPs will helps to make the code more adpative\n",
        "and provide code reusability.\n",
        "\n",
        "Main concept of OOPs are Inheritance, Encapsulation, Polymorphism and Abstraction\n",
        "\n",
        "Inheritance - Inherting properties of an existing class to a new class. We can derrive a new class from existing base class. Inheritance provide code reusability.\n",
        "Encapsulation - Encapsulation provides data security. Data members and methods are binded inside a class, only methods can access data.\n",
        "Polymorphism - Methods can exist in more than one form. We can define same method with different functionality.\n",
        "Abstraction - Hiding back ground details or internal working and showing only required deatils.\n",
        "\n",
        "'''"
      ]
    },
    {
      "cell_type": "code",
      "source": [
        "'''\n",
        "2. What is an object in Python?\n",
        "\n",
        "Ans:\n",
        "Objects are instance of a class.\n",
        "Class act as a blue print where we can define methods and data members.\n",
        "Methods of class are accessible through using objecys. Also we can pass values to data memebrs using objects.\n",
        "'''"
      ],
      "metadata": {
        "id": "uD5vH-FbfFPI"
      },
      "execution_count": null,
      "outputs": []
    },
    {
      "cell_type": "code",
      "source": [
        "'''\n",
        "3. What is a class in Python?\n",
        "\n",
        "Ans:\n",
        "Class is a blue print of objects. Class is fundemental block of OOPs concept.\n",
        "We can define the data members and methods inside a class. Also we can create a class from existing class and inherit its properties.\n",
        "If we want to create a new type of onject, we need to create a class for its and define all the methods and attributes inside it.\n",
        "\n",
        "\n",
        "'''"
      ],
      "metadata": {
        "id": "2GXy1Tg_f9FU"
      },
      "execution_count": null,
      "outputs": []
    },
    {
      "cell_type": "code",
      "source": [
        "'''\n",
        "4. What are attributes and methods in a class?\n",
        "\n",
        "Ans:\n",
        "Attributes are data members in class and methods and functions defined in class. Methods can access the attributes and perform tasks .\n",
        "In python we have class attributes and object attributes. The data of class attribute will be common to all objects. Object attributes data will be specifyic to each object.\n",
        "Methods we have different types, normal methods, class methods static methods etc\n",
        "'''"
      ],
      "metadata": {
        "id": "8A9iFJX5g5sr"
      },
      "execution_count": null,
      "outputs": []
    },
    {
      "cell_type": "code",
      "source": [
        "'''\n",
        "5. What is the difference between class variables and instance variables in Python?\n",
        "\n",
        "Ans:\n",
        "class variables are variables shared by all instances of a class.\n",
        "Definedd within the class, outside all methods or constructors. Class variables are associated within the class rather than with specific instances.\n",
        "Class variables are accessible by all objects and values are common for all onjects.\n",
        "Class methods are used to modify class variables.\n",
        "\n",
        "Instance variables are variables which store data specific to an objects.\n",
        "Instance variables are defined inside constructors.\n",
        "\n",
        "Main difference of class variables and instance variables are, class variable data is common for all objects where instance variable data will be diefferent for each onject.\n",
        "And instance variables defined inside constructors, class variables defined outside all methods and constructors.\n",
        "Instance methods are modified using normal methods but class variables are modified using class methods.\n",
        "Instance variables can be accessed using object.variable name, class variale can be accessed by either object.variablename or classname.variablename\n",
        "'''"
      ],
      "metadata": {
        "id": "I8zXgo6rh23O"
      },
      "execution_count": null,
      "outputs": []
    },
    {
      "cell_type": "code",
      "source": [
        "'''\n",
        "6. What is the purpose of the self parameter in Python class methods?\n",
        "\n",
        "Ans:\n",
        "In python, self represent the current instance of a class. self is used to set values to instance attributes or access instance attributes or methods.\n",
        "Self is the first argument of methods in a class.\n",
        "'''"
      ],
      "metadata": {
        "id": "rtACqctrkbpx"
      },
      "execution_count": null,
      "outputs": []
    },
    {
      "cell_type": "code",
      "source": [
        "'''\n",
        "7. For a library management system, you have to design the \"Book\" class with OOP\n",
        "principles in mind. The “Book” class will have following attributes:\n",
        "a. title: Represents the title of the book.\n",
        "b. author: Represents the author(s) of the book.\n",
        "c. isbn: Represents the ISBN (International Standard Book Number) of the book.\n",
        "d. publication_year: Represents the year of publication of the book.\n",
        "e. available_copies: Represents the number of copies available for checkout.\n",
        "The class will also include the following methods:\n",
        "a. check_out(self): Decrements the available copies by one if there are copies\n",
        "available for checkout.\n",
        "b. return_book(self): Increments the available copies by one when a book is\n",
        "returned.\n",
        "c. display_book_info(self): Displays the information about the book, including its\n",
        "attributes and the number of available copies.\n",
        "\n",
        "Ans:\n",
        "'''"
      ],
      "metadata": {
        "id": "NHGoKt7ElDNB"
      },
      "execution_count": null,
      "outputs": []
    },
    {
      "cell_type": "code",
      "source": [
        "# Library mangement system\n",
        "class Book:\n",
        "  def __init__(self, title, author, isbn, publication_year, available_copies):\n",
        "    self.title = title\n",
        "    self.author = author\n",
        "    self.isbn = isbn\n",
        "    self.publication_year = publication_year\n",
        "    self.available_copies = available_copies\n",
        "\n",
        "  def check_out(self): # Method to checkout a book\n",
        "    if(self.available_copies > 0):\n",
        "      self.available_copies -= 1\n",
        "      print(\"Book checked out successfully\")\n",
        "    else:\n",
        "      print(\"No copies available\")\n",
        "\n",
        "  def return_book(self): # Method to return a book\n",
        "    self.available_copies += 1\n",
        "    print(\"Book returned\")\n",
        "\n",
        "  def display_book(self): # Method to display book details\n",
        "    print(f'Book title : {self.title}')\n",
        "    print(f'Book author : {self.author}')\n",
        "    print(f'Book isbn : {self.isbn}')\n",
        "    print(f'Book publication year : {self.publication_year}')\n",
        "    print(f'Book available copies : {self.available_copies}')\n",
        "\n",
        "book1 = Book(\"Love today\", \"Ramshankar\", \"123ac\", 2023, 5)\n",
        "book1.check_out()\n",
        "book1.return_book()\n",
        "book1.check_out()\n",
        "book1.display_book()\n"
      ],
      "metadata": {
        "colab": {
          "base_uri": "https://localhost:8080/"
        },
        "id": "_fLvu4L6lFsk",
        "outputId": "5ea64bfa-c112-4896-e105-70dd8f51379f"
      },
      "execution_count": 10,
      "outputs": [
        {
          "output_type": "stream",
          "name": "stdout",
          "text": [
            "Book checked out successfully\n",
            "Book returned\n",
            "Book checked out successfully\n",
            "Book title : Love today\n",
            "Book author : Ramshankar\n",
            "Book isbn : 123ac\n",
            "Book publication year : 2023\n",
            "Book available copies : 4\n"
          ]
        }
      ]
    },
    {
      "cell_type": "code",
      "source": [
        "'''\n",
        "8. For a ticket booking system, you have to design the \"Ticket\" class with OOP\n",
        "principles in mind. The “Ticket” class should have the following attributes:\n",
        "a. ticket_id: Represents the unique identifier for the ticket.\n",
        "b. event_name: Represents the name of the event.\n",
        "c. event_date: Represents the date of the event.\n",
        "d. venue: Represents the venue of the event.\n",
        "e. seat_number: Represents the seat number associated with the ticket.\n",
        "f. price: Represents the price of the ticket.\n",
        "g. is_reserved: Represents the reservation status of the ticket.\n",
        "The class also includes the following methods:\n",
        "a. reserve_ticket(self): Marks the ticket as reserved if it is not already reserved.\n",
        "b. cancel_reservation(self): Cancels the reservation of the ticket if it is already\n",
        "reserved.\n",
        "c. display_ticket_info(self): Displays the information about the ticket, including its\n",
        "attributes and reservation status.\n",
        "\n",
        "Ans:\n",
        "\n",
        "'''"
      ],
      "metadata": {
        "id": "pvfxtfyRoI4T"
      },
      "execution_count": null,
      "outputs": []
    },
    {
      "cell_type": "code",
      "source": [
        "# Ticket booking system\n",
        "class Ticket:\n",
        "  def __init__(self, ticket_id, ticket_name, ticket_date, venue, seat_number, price, is_reserved):\n",
        "    self.ticket_id = ticket_id\n",
        "    self.ticket_name = ticket_name\n",
        "    self.ticket_date = ticket_date\n",
        "    self.venue = venue\n",
        "    self.seat_number = seat_number\n",
        "    self.price = price\n",
        "    self.is_reserved = is_reserved\n",
        "\n",
        "  def reserve_ticket(self): # Method to reserve a ticket\n",
        "    if(self.is_reserved == False):\n",
        "      self.is_reserved = True\n",
        "      print(\"Ticket reserved successfully\")\n",
        "    else:\n",
        "      print(\"Ticket already reserved\")\n",
        "\n",
        "  def cancel_reservation(self): # Method to cancel a ticket\n",
        "    if(self.is_reserved == True):\n",
        "      self.is_reserved = False\n",
        "      print(\"Ticket reservation cancelled\")\n",
        "    else:\n",
        "      print(\"Tiicket is not reserved\")\n",
        "\n",
        "  def display_ticket_info(self): # Method to display ticket information\n",
        "    print(f'Ticket id is : {self.ticket_id}')\n",
        "    print(f'Ticket name is : {self.ticket_name}')\n",
        "    print(f'Ticket date is : {self.ticket_date}')\n",
        "    print(f'Ticket venue is : {self.venue}')\n",
        "    print(f'Seat number is : {self.seat_number}')\n",
        "    print(f'Ticket price is : {self.price}')\n",
        "    print(f'Ticket reservation status : {self.is_reserved}')\n",
        "\n",
        "ticket1 = Ticket(\"T123\",\"St23\", \"12/01/2023\", \"Fort\",\"A23\",2000, False)\n",
        "\n",
        "ticket1.reserve_ticket()\n",
        "ticket1.display_ticket_info()\n",
        "ticket1.cancel_reservation()\n"
      ],
      "metadata": {
        "colab": {
          "base_uri": "https://localhost:8080/"
        },
        "id": "HGH00yhtowgY",
        "outputId": "93103b6f-52d9-41da-f8f9-1a4b47bdb7e0"
      },
      "execution_count": 13,
      "outputs": [
        {
          "output_type": "stream",
          "name": "stdout",
          "text": [
            "Ticket reserved successfully\n",
            "Ticket id is : T123\n",
            "Ticket name is : St23\n",
            "Ticket date is : 12/01/2023\n",
            "Ticket venue is : Fort\n",
            "Seat number is : A23\n",
            "Ticket price is : 2000\n",
            "Ticket reservation status : True\n",
            "Ticket reservation cancelled\n"
          ]
        }
      ]
    },
    {
      "cell_type": "code",
      "source": [
        "'''\n",
        "9. You are creating a shopping cart for an e-commerce website. Using OOP to model\n",
        "the \"ShoppingCart\" functionality the class should contain following attributes and\n",
        "methods:\n",
        "a. items: Represents the list of items in the shopping cart.\n",
        "The class also includes the following methods:\n",
        "\n",
        "a. add_item(self, item): Adds an item to the shopping cart by appending it to the\n",
        "list of items.\n",
        "b. remove_item(self, item): Removes an item from the shopping cart if it exists in\n",
        "the list.\n",
        "c. view_cart(self): Displays the items currently present in the shopping cart.\n",
        "d. clear_cart(self): Clears all items from the shopping cart by reassigning an\n",
        "empty list to the items attribute.\n",
        "\n",
        "Ans:\n",
        "'''"
      ],
      "metadata": {
        "id": "p0qSmv_XrVH-"
      },
      "execution_count": null,
      "outputs": []
    },
    {
      "cell_type": "code",
      "source": [
        "# Shopping cart\n",
        "\n",
        "class ShoppingCart:\n",
        "  def __init__(self):\n",
        "    self.items = list()\n",
        "\n",
        "  def add_item(self, item): # Method to add item\n",
        "    self.items.append(item)\n",
        "    print(\"Item added\")\n",
        "\n",
        "  def remove_item(self, item): # Method to remove item\n",
        "    if item in self.items:\n",
        "      self.items.remove(item)\n",
        "      print(\"Item removed\")\n",
        "    else:\n",
        "      print(\"Item not present in cart\")\n",
        "\n",
        "  def view_cart(self): # Method to display current cart items\n",
        "    print(f'Items in cart are : {self.items}')\n",
        "\n",
        "  def clear_cart(self): # Method to clear cart\n",
        "    self.items = list()\n",
        "    print(\"Cart cleared\")\n",
        "\n",
        "cart1 = ShoppingCart()\n",
        "cart1.add_item(\"Phone\")\n",
        "cart1.add_item(\"Icecream\")\n",
        "cart1.view_cart()\n",
        "cart1.remove_item(\"Icecream\")\n",
        "cart1.view_cart()\n",
        "cart1.clear_cart()\n",
        "cart1.view_cart()"
      ],
      "metadata": {
        "colab": {
          "base_uri": "https://localhost:8080/"
        },
        "id": "BgtJ5iRtrzVD",
        "outputId": "4920b2bb-95bf-4391-8237-cc99e4b7ba25"
      },
      "execution_count": 14,
      "outputs": [
        {
          "output_type": "stream",
          "name": "stdout",
          "text": [
            "Item added\n",
            "Item added\n",
            "Items in cart are : ['Phone', 'Icecream']\n",
            "Item removed\n",
            "Items in cart are : ['Phone']\n",
            "Cart cleared\n",
            "Items in cart are : []\n"
          ]
        }
      ]
    },
    {
      "cell_type": "code",
      "source": [
        "'''\n",
        "10. Imagine a school management system. You have to design the \"Student\" class using\n",
        "OOP concepts.The “Student” class has the following attributes:\n",
        "a. name: Represents the name of the student.\n",
        "b. age: Represents the age of the student.\n",
        "c. grade: Represents the grade or class of the student.\n",
        "d. student_id: Represents the unique identifier for the student.\n",
        "e. attendance: Represents the attendance record of the student.\n",
        "The class should also include the following methods:\n",
        "a. update_attendance(self, date, status): Updates the attendance record of the\n",
        "student for a given date with the provided status (e.g., present or absent).\n",
        "b. get_attendance(self): Returns the attendance record of the student.\n",
        "c. get_average_attendance(self): Calculates and returns the average\n",
        "attendance percentage of the student based on their attendance record.\n",
        "\n",
        "Ans:\n",
        "'''"
      ],
      "metadata": {
        "id": "wkDPu-Hwt17v"
      },
      "execution_count": null,
      "outputs": []
    },
    {
      "cell_type": "code",
      "source": [
        "# School management system\n",
        "\n",
        "class Student:\n",
        "  def __init__(self, name, age, grade, student_id):\n",
        "    self.name = name\n",
        "    self.age = age\n",
        "    self.grade = grade\n",
        "    self.student_id = student_id\n",
        "    self.attandance = {}\n",
        "\n",
        "  def update_attendance(self, date, status): # Method to add an attandance record\n",
        "    self.attandance[date] = status\n",
        "    print(\"Attandance updated\")\n",
        "\n",
        "  def get_attendance(self):\n",
        "    return self.attendance\n",
        "\n",
        "  def get_average_attendance(self): # Method to calculate an attandance %\n",
        "    if(len(self.attandance.keys()) > 0):\n",
        "      avg_attendance_percentg = (sum(value == 'present' for value in self.attandance.values()) / len(self.attandance.keys())) * 100\n",
        "      print(f\"attandance percentage is {avg_attendance_percentg}%\")\n",
        "      return avg_attendance_percentg\n",
        "    else:\n",
        "      print(\"Please add attandance record to calculate attandance\")\n",
        "\n",
        "  def student_details(self):\n",
        "    print(f'Student name is {self.name}')\n",
        "    print(f'Student age is {self.age}')\n",
        "    print(f'Student grade is {self.grade}')\n",
        "    print(f'Student id is {self.student_id}')\n",
        "\n",
        "s1 = Student(\"Ivan\", 12, 'A', 'A123')\n",
        "s1.update_attendance('12/01/2023', 'present')\n",
        "s1.update_attendance('11/01/2023', 'present')\n",
        "s1.update_attendance('10/01/2023', 'absent')\n",
        "attandance_percentage = s1.get_average_attendance()\n",
        "s1.student_details()"
      ],
      "metadata": {
        "colab": {
          "base_uri": "https://localhost:8080/"
        },
        "id": "VhmmZIomuG6D",
        "outputId": "c196ecfd-d532-43ce-d730-ff29373e2ebb"
      },
      "execution_count": 22,
      "outputs": [
        {
          "output_type": "stream",
          "name": "stdout",
          "text": [
            "Attandance updated\n",
            "Attandance updated\n",
            "Attandance updated\n",
            "attandance percentage is 66.66666666666666%\n",
            "Student name is Ivan\n",
            "Student age is 12\n",
            "Student grade is A\n",
            "Student id is A123\n"
          ]
        }
      ]
    }
  ]
}