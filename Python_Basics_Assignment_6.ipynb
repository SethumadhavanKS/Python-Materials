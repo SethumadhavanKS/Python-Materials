{
  "nbformat": 4,
  "nbformat_minor": 0,
  "metadata": {
    "colab": {
      "provenance": []
    },
    "kernelspec": {
      "name": "python3",
      "display_name": "Python 3"
    },
    "language_info": {
      "name": "python"
    }
  },
  "cells": [
    {
      "cell_type": "code",
      "execution_count": null,
      "metadata": {
        "id": "x72tq1QTrvSn"
      },
      "outputs": [],
      "source": [
        "# @title Default title text\n",
        "Q.1. What are keywords in python? Using the keyword library, print all the python keywords.\n",
        "\n",
        "Ans:\n",
        "Keywords are predefined names that are already reserved in python. Keywords cannot be used as a variable.\n",
        "eg: True, for"
      ]
    },
    {
      "cell_type": "code",
      "source": [
        "import keyword\n",
        "print(keyword.kwlist)"
      ],
      "metadata": {
        "colab": {
          "base_uri": "https://localhost:8080/"
        },
        "id": "2U-jCeb7sMJh",
        "outputId": "3a346e5d-aedb-470e-9d59-3dbb8d689747"
      },
      "execution_count": 1,
      "outputs": [
        {
          "output_type": "stream",
          "name": "stdout",
          "text": [
            "['False', 'None', 'True', 'and', 'as', 'assert', 'async', 'await', 'break', 'class', 'continue', 'def', 'del', 'elif', 'else', 'except', 'finally', 'for', 'from', 'global', 'if', 'import', 'in', 'is', 'lambda', 'nonlocal', 'not', 'or', 'pass', 'raise', 'return', 'try', 'while', 'with', 'yield']\n"
          ]
        }
      ]
    },
    {
      "cell_type": "code",
      "source": [
        "Q.2. What are the rules to create variables in python?\n",
        "\n",
        "Ans: Variable name shoud not be a keyword.\n",
        "Variable name can contain capital letters, small letters, numbers , _ and $\n",
        "Variable name should not start with a number\n",
        "Variable name cannot contain space\n",
        "\n",
        "variables can assign to a value while creating\n",
        "eg: num = 10\n",
        "\n"
      ],
      "metadata": {
        "id": "7QZi1Nfksuwi"
      },
      "execution_count": null,
      "outputs": []
    },
    {
      "cell_type": "code",
      "source": [
        "Q.3. What are the standards and conventions followed for the nomenclature of variables in\n",
        "python to improve code readability and maintainability?\n",
        "\n",
        "Ans: Names used for variables should give an idea about the value it is stored.\n",
        "If multiple words are used in variable name, words should seperated using _ or should use camel case.\n",
        "First letter of class name should be Capital\n",
        "\n"
      ],
      "metadata": {
        "id": "l9EwoOgItk8W"
      },
      "execution_count": null,
      "outputs": []
    },
    {
      "cell_type": "code",
      "source": [
        "Q.4. What will happen if a keyword is used as a variable name?\n",
        "\n",
        "Ans: It will throw a syntax error"
      ],
      "metadata": {
        "id": "pySpAvK_uyvE"
      },
      "execution_count": null,
      "outputs": []
    },
    {
      "cell_type": "code",
      "source": [
        "Q.5. For what purpose def keyword is used?\n",
        "\n",
        "And: def keyword is used to define a function\n",
        "\n",
        "eg: def add(a,b):\n",
        "      print(a+b)"
      ],
      "metadata": {
        "id": "VsO5m2SZu-Jn"
      },
      "execution_count": null,
      "outputs": []
    },
    {
      "cell_type": "code",
      "source": [
        "Q.6. What is the operation of this special character ‘\\’?\n",
        "\n",
        "Ans: '\\' in python called as escape character. using \\ with some other characters will give specific meaning to the charaters.\n",
        "eg: '\\t' is tab, '\\n' is new line\n",
        "\n",
        "Also, giving '\\' before any special character will chnage it to normal character\n",
        "\n",
        "eg print(\" Let\\'s have Dinner\")"
      ],
      "metadata": {
        "id": "6bgLiiT2vMOi"
      },
      "execution_count": null,
      "outputs": []
    },
    {
      "cell_type": "code",
      "source": [
        "Q.7. Give an example of the following conditions:\n",
        "(i) Homogeneous list\n",
        "(ii) Heterogeneous set\n",
        "(iii) Homogeneous tuple\n",
        "\n",
        "Ans:\n",
        "(i) lst = [1, 2, 3, 4]\n",
        "(ii) set1 = { 'a', 123, 'b', 2.3}\n",
        "(iii) tup1 = ('a', 'b', 'c', 'f')"
      ],
      "metadata": {
        "id": "c67iRR-QwtSU"
      },
      "execution_count": null,
      "outputs": []
    },
    {
      "cell_type": "code",
      "source": [
        "Q.8. Explain the mutable and immutable data types with proper explanation & examples.\n",
        "\n",
        "Ans: Mutable data types supports update or modify elements.\n",
        "List, dictionaries and set are mutable data types\n",
        "eg = list1 = [1,2,3]\n",
        "list1[2]= 7\n",
        "Here element in index 2 is updated to 2\n",
        "\n",
        "\n",
        "We cannot change values of immutabble data types once it is assigned.\n",
        "eg: tuple\n",
        "\n",
        "tup = (1,2)\n",
        "\n",
        "if we try to update any value, it will throw error"
      ],
      "metadata": {
        "id": "t1ukwxR3xkK7"
      },
      "execution_count": null,
      "outputs": []
    },
    {
      "cell_type": "code",
      "source": [
        "Q.9. Write a code to create the given structure using only for loop.\n",
        "*\n",
        "***\n",
        "*****\n",
        "*******\n",
        "*********\n",
        "\n",
        "Ans:"
      ],
      "metadata": {
        "id": "Mtb0yf8dyofc"
      },
      "execution_count": null,
      "outputs": []
    },
    {
      "cell_type": "code",
      "source": [
        "for i in range(1,10,2):\n",
        "  for j in range(0,i):\n",
        "    print(\"*\", end='')\n",
        "  print()"
      ],
      "metadata": {
        "colab": {
          "base_uri": "https://localhost:8080/"
        },
        "id": "LdVChe7Yyunv",
        "outputId": "de3331b2-d8e1-47de-e759-a9a4a5903b32"
      },
      "execution_count": 3,
      "outputs": [
        {
          "output_type": "stream",
          "name": "stdout",
          "text": [
            "*\n",
            "***\n",
            "*****\n",
            "*******\n",
            "*********\n"
          ]
        }
      ]
    },
    {
      "cell_type": "code",
      "source": [
        "Q.10. Write a code to create the given structure using while loop.\n",
        "|||||||||\n",
        "|||||||\n",
        "|||||\n",
        "|||\n",
        "|\n",
        "\n",
        "Ans:\n"
      ],
      "metadata": {
        "id": "AJrB_r9Czr-T"
      },
      "execution_count": null,
      "outputs": []
    },
    {
      "cell_type": "code",
      "source": [
        "i = 10\n",
        "while i > 0:\n",
        "  j = 1\n",
        "  while j < i:\n",
        "    print(\"|\", end = '')\n",
        "    j += 1\n",
        "  print()\n",
        "  i -= 2"
      ],
      "metadata": {
        "colab": {
          "base_uri": "https://localhost:8080/"
        },
        "id": "e_4mbgk-z2u4",
        "outputId": "7daa14da-c5d7-41e6-beb9-80aa9e0ac534"
      },
      "execution_count": 6,
      "outputs": [
        {
          "output_type": "stream",
          "name": "stdout",
          "text": [
            "|||||||||\n",
            "|||||||\n",
            "|||||\n",
            "|||\n",
            "|\n"
          ]
        }
      ]
    }
  ]
}