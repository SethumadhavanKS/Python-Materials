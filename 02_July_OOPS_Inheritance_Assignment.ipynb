{
  "nbformat": 4,
  "nbformat_minor": 0,
  "metadata": {
    "colab": {
      "provenance": []
    },
    "kernelspec": {
      "name": "python3",
      "display_name": "Python 3"
    },
    "language_info": {
      "name": "python"
    }
  },
  "cells": [
    {
      "cell_type": "code",
      "execution_count": null,
      "metadata": {
        "id": "5_VH1Rg01AXo"
      },
      "outputs": [],
      "source": [
        "'''\n",
        "1. Explain what inheritance is in object-oriented programming and why it is used.\n",
        "\n",
        "Ans:\n",
        "Inheritance in OOPS is the concept of creating a new child class from an existing base class.\n",
        "Child class can inherit the attributes and methods of base class.\n",
        "inheritance is used for code reusability.\n",
        "\n",
        "eg: class Baseclass:\n",
        "      def __init__(self):\n",
        "        self.attribute1 = 12\n",
        "        self.attribute2 = 13\n",
        "      def display(self):\n",
        "        print(self.attribute1, self.attribute2)\n",
        "\n",
        "    class Derrivedclass(Baseclass):\n",
        "      def __init__(self):\n",
        "        self.attribute3 = 14\n",
        "\n",
        "In the above example, Derrived class is inheritted from Baseclass , so it can access the attribute1 and attribute2 also method display()\n",
        "'''"
      ]
    },
    {
      "cell_type": "code",
      "source": [
        "'''\n",
        "2. Discuss the concept of single inheritance and multiple inheritance, highlighting their\n",
        "differences and advantages.\n",
        "\n",
        "Ans:\n",
        "Inheritance enables code reusability and addition of featires to existing code.\n",
        "\n",
        "Single inheritance - when a child class derrived from a single base class is called single inheritance. Child class will inherit attributes and methods of its one and only parent class.\n",
        "  It is the simpleset form of inherittance\n",
        "  example:\n",
        "  class A:\n",
        "    pass\n",
        "  class B(A):\n",
        "    pass\n",
        "\n",
        "  Here class B inheritted from class A\n",
        "\n",
        "Multiple inheritance - when a child class derrived from multiple base class is called multiple inheritance. Child class will inherit attributes and methods of all of its parent classes.\n",
        " Multiple inheritance helps child classes to inherit more properties and characteristics since they have multiple base/parent classes.\n",
        " Multiple inheritance can make code more complex and difficult to understand and difficult to maintain.\n",
        "\n",
        " example :\n",
        " class A:\n",
        "  pass\n",
        " class B:\n",
        "  pass\n",
        " class C(A,B):\n",
        "  pass\n",
        "'''"
      ],
      "metadata": {
        "id": "rW6tHwWJ2peY"
      },
      "execution_count": null,
      "outputs": []
    },
    {
      "cell_type": "code",
      "source": [
        "'''\n",
        "3. Explain the terms \"base class\" and \"derived class\" in the context of inheritance.\n",
        "\n",
        "Ans:\n",
        "Inheritance is the concept of creating a new child class from an existing parent class. Child class can access the properties of its parent class\n",
        "Here, child class is called derrived class and parent class is called base class.\n",
        "In the below example, class B is inherrited from existing class A.\n",
        "class A is called base class and class B is called derrrived class\n",
        "\n",
        "example:\n",
        " class A:\n",
        "    pass\n",
        "  class B(A):\n",
        "    pass\n",
        "'''"
      ],
      "metadata": {
        "id": "dzK8oznU5EZV"
      },
      "execution_count": null,
      "outputs": []
    },
    {
      "cell_type": "code",
      "source": [
        "'''\n",
        "4. What is the significance of the \"protected\" access modifier in inheritance? How does\n",
        "it differ from \"private\" and \"public\" modifiers?\n",
        "\n",
        "Ans:\n",
        "Encapsulation is acheived using access modifiers in python.\n",
        "Using access modifiers , we can control where attributes of a class can be accessed.\n",
        "\n",
        "Inheritance is the concept of creating a new derrived class from an existing base class.\n",
        "class members defined as protected can be accessible only from derrived class. We can define a class attribute or method as protected.\n",
        "Protected member's name should start with _\n",
        "\n",
        "Class members defined as public is accessible from anywhere in the program. We can access then using a class object.\n",
        "Public provide less security to class data.\n",
        "All data members and member functions of a class is publich by default in python.\n",
        "\n",
        "Class memebers defined as Private can be accessed only inside the same class. Private provide maximum security to data members.\n",
        "Class attributes or methods defined as private are not inheritted.\n",
        "Private member's name should start with __\n",
        "\n",
        "'''"
      ],
      "metadata": {
        "id": "oxHGWPeE59HQ"
      },
      "execution_count": null,
      "outputs": []
    },
    {
      "cell_type": "code",
      "source": [
        "'''\n",
        "5. What is the purpose of the \"super\" keyword in inheritance? Provide an example.\n",
        "\n",
        "Ans:\n",
        "super() is used to call base class attribute or method or constructor inside a derrived class.\n",
        "\n",
        "example\n",
        "'''"
      ],
      "metadata": {
        "id": "j6VTm62q8ZAv"
      },
      "execution_count": null,
      "outputs": []
    },
    {
      "cell_type": "code",
      "source": [
        "# Usage of super keyword\n",
        "class Person:\n",
        "  def __init__(self,name):\n",
        "    self.name = name\n",
        "\n",
        "  def display(self):\n",
        "    print(f'Name is {self.name}')\n",
        "\n",
        "class Student(Person):\n",
        "  def __init__(self,name,grade):\n",
        "    super().__init__(name) # calling base class constructor using super()\n",
        "    self.grade = grade\n",
        "\n",
        "  def display(self):\n",
        "    super().display() # calling base class display() method using super()\n",
        "    print(f'Grade is {self.grade}')\n",
        "\n",
        "s1 = Student(\"Aron\", 'B')\n",
        "s1.display()"
      ],
      "metadata": {
        "colab": {
          "base_uri": "https://localhost:8080/"
        },
        "id": "L-rv6ZN_8ynU",
        "outputId": "942bad75-47e0-4a54-854e-4b60da457517"
      },
      "execution_count": 4,
      "outputs": [
        {
          "output_type": "stream",
          "name": "stdout",
          "text": [
            "Name is Aron\n",
            "Grade is B\n"
          ]
        }
      ]
    },
    {
      "cell_type": "code",
      "source": [
        "'''\n",
        "6. Create a base class called \"Vehicle\" with attributes like \"make\", \"model\", and \"year\".\n",
        "Then, create a derived class called \"Car\" that inherits from \"Vehicle\" and adds an\n",
        "attribute called \"fuel_type\". Implement appropriate methods in both classes.\n",
        "\n",
        "Ans:\n",
        "\n",
        "'''\n"
      ],
      "metadata": {
        "id": "jCGa8OJf94wu"
      },
      "execution_count": null,
      "outputs": []
    },
    {
      "cell_type": "code",
      "source": [
        "# Vehicle class\n",
        "class Vehicle:\n",
        "  def __init__(self,make,year):\n",
        "    self.make = make\n",
        "    self.year = year\n",
        "\n",
        "  def display(self): # Display vehicle class details\n",
        "    print(f'Make is {self.make}')\n",
        "    print(f'Year is {self.year}')\n",
        "\n",
        "# Car class inheritted from Vehicle\n",
        "class Car(Vehicle):\n",
        "  def __init__(self,make, year, fuel_type):\n",
        "    super().__init__(make, year)\n",
        "    self.fuel_type = fuel_type\n",
        "  def display(self):\n",
        "    super().display()\n",
        "    print(f'Fuel type is {self.fuel_type}') #Display derrived class attributes\n",
        "\n",
        "car1 = Car(\"Toyota\", 2022, 'Petrol')\n",
        "car1.display()"
      ],
      "metadata": {
        "colab": {
          "base_uri": "https://localhost:8080/"
        },
        "id": "XHCeG8Vi98Ti",
        "outputId": "94dc285c-0f0f-4ffc-b8a3-d7caba324133"
      },
      "execution_count": 8,
      "outputs": [
        {
          "output_type": "stream",
          "name": "stdout",
          "text": [
            "Make is Toyota\n",
            "Year is 2022\n",
            "Fuel type is Petrol\n"
          ]
        }
      ]
    },
    {
      "cell_type": "code",
      "source": [
        "'''\n",
        "7. Create a base class called \"Employee\" with attributes like \"name\" and \"salary.\"\n",
        "Derive two classes, \"Manager\" and \"Developer,\" from \"Employee.\" Add an additional\n",
        "attribute called \"department\" for the \"Manager\" class and \"programming_language\"\n",
        "for the \"Developer\" class.\n",
        "\n",
        "Ans:\n",
        "\n",
        "'''\n"
      ],
      "metadata": {
        "id": "7SEIlz2__QNE"
      },
      "execution_count": null,
      "outputs": []
    },
    {
      "cell_type": "code",
      "source": [
        "# Base class employee\n",
        "\n",
        "class Employee:\n",
        "  def __init__(self, name, salary):\n",
        "    self.name = name\n",
        "    self.salary = salary\n",
        "  def display(self):\n",
        "    print(f'Name is {self.name}')\n",
        "    print(f'Salary is {self.salary}')\n",
        "\n",
        "# Derrived class manager\n",
        "class Manager(Employee):\n",
        "  def __init__(self, name, salary, department):\n",
        "    super().__init__(name,salary)\n",
        "    self.department = department\n",
        "\n",
        "  def display(self):\n",
        "    super().display()\n",
        "    print(f'Department of manager is {self.department}')\n",
        "\n",
        "# Derrived class developer\n",
        "class Developer(Employee):\n",
        "  def __init__(self, name, salary, programming_language):\n",
        "    super().__init__(name,salary)\n",
        "    self.programming_language = programming_language\n",
        "\n",
        "  def display(self):\n",
        "    super().display()\n",
        "    print(f'Programming language of developer is {self.programming_language}')\n",
        "\n",
        "manager1 = Manager(\"Arun\", 30000, 'Sales')\n",
        "developer1 = Developer(\"Tom\", 45000, 'Python')\n",
        "manager1.display()\n",
        "developer1.display()"
      ],
      "metadata": {
        "colab": {
          "base_uri": "https://localhost:8080/"
        },
        "id": "Wh7sx9yL_XfR",
        "outputId": "5ba4a5aa-6b67-48b7-a9e7-a80de4f221e9"
      },
      "execution_count": 10,
      "outputs": [
        {
          "output_type": "stream",
          "name": "stdout",
          "text": [
            "Name is Arun\n",
            "Salary is 30000\n",
            "Department of manager is Sales\n",
            "Name is Tom\n",
            "Salary is 45000\n",
            "Programming language of developer is Python\n"
          ]
        }
      ]
    },
    {
      "cell_type": "code",
      "source": [
        "'''\n",
        "8. Design a base class called \"Shape\" with attributes like \"colour\" and \"border_width.\"\n",
        "Create derived classes, \"Rectangle\" and \"Circle,\" that inherit from \"Shape\" and add\n",
        "specific attributes like \"length\" and \"width\" for the \"Rectangle\" class and \"radius\" for\n",
        "the \"Circle\" class.\n",
        "\n",
        "\n",
        "Ans:\n",
        "\n",
        "'''"
      ],
      "metadata": {
        "id": "OU6-5j9iA56L"
      },
      "execution_count": null,
      "outputs": []
    },
    {
      "cell_type": "code",
      "source": [
        "# Base class shape\n",
        "\n",
        "class Shape:\n",
        "  def __init__(self, colour, border_width):\n",
        "    self.colour = colour\n",
        "    self.border_width = border_width\n",
        "  def display(self):\n",
        "    print(f'Colour is {self.colour}')\n",
        "    print(f'Border width is {self.border_width}')\n",
        "\n",
        "# Derrived class Rectangle\n",
        "class Rectangle(Shape):\n",
        "  def __init__(self, colour, border_width, length , width):\n",
        "    super().__init__(colour, border_width)\n",
        "    self.length = length\n",
        "    self.width = width\n",
        "\n",
        "  def display(self):\n",
        "    super().display()\n",
        "    print(f'Length of rectangle is {self.length}')\n",
        "    print(f'Width of rectangle is {self.width}')\n",
        "\n",
        "# Derrived class Circle\n",
        "class Circle(Shape):\n",
        "  def __init__(self, colour, border_width, radius):\n",
        "    super().__init__(colour, border_width)\n",
        "    self.radius = radius\n",
        "\n",
        "  def display(self):\n",
        "    super().display()\n",
        "    print(f'Radius of circle is {self.radius}')\n",
        "rectangle1 = Rectangle('Red',2,12,34)\n",
        "circle1 = Circle('Yellow',3,12)\n",
        "rectangle1.display()\n",
        "circle1.display()"
      ],
      "metadata": {
        "colab": {
          "base_uri": "https://localhost:8080/"
        },
        "id": "ufaCvVQ7BEBP",
        "outputId": "2e67f154-6e2c-4fc4-f73c-f4bd677021b0"
      },
      "execution_count": 11,
      "outputs": [
        {
          "output_type": "stream",
          "name": "stdout",
          "text": [
            "Colour is Red\n",
            "Border width is 2\n",
            "Length of rectangle is 12\n",
            "Width of rectangle is 34\n",
            "Colour is Yellow\n",
            "Border width is 3\n",
            "Radius of circle is 12\n"
          ]
        }
      ]
    },
    {
      "cell_type": "code",
      "source": [
        "'''\n",
        "9. Create a base class called \"Device\" with attributes like \"brand\" and \"model.\" Derive\n",
        "two classes, \"Phone\" and \"Tablet,\" from \"Device.\" Add specific attributes like\n",
        "\"screen_size\" for the \"Phone\" class and \"battery_capacity\" for the \"Tablet\" class.\n",
        "\n",
        "Ans:\n",
        "\n",
        "'''"
      ],
      "metadata": {
        "id": "_gf5tmFxCrzi"
      },
      "execution_count": null,
      "outputs": []
    },
    {
      "cell_type": "code",
      "source": [
        "# Base class Device\n",
        "\n",
        "class Device:\n",
        "  def __init__(self, brand, model):\n",
        "    self.brand = brand\n",
        "    self.model = model\n",
        "  def display(self):\n",
        "    print(f'Brand is {self.brand}')\n",
        "    print(f'Model is {self.model}')\n",
        "\n",
        "# Derrived class Phone\n",
        "class Phone(Device):\n",
        "  def __init__(self, brand, model, screen_size):\n",
        "    super().__init__(brand, model)\n",
        "    self.screen_size = screen_size\n",
        "\n",
        "  def display(self):\n",
        "    super().display()\n",
        "    print(f'Screen size is {self.screen_size}')\n",
        "\n",
        "# Derrived class Tablet\n",
        "class Tablet(Device):\n",
        "  def __init__(self, brand, model, battery_capacity):\n",
        "    super().__init__(brand, model)\n",
        "    self.battery_capacity = battery_capacity\n",
        "\n",
        "  def display(self):\n",
        "    super().display()\n",
        "    print(f'Battery capacity is {self.battery_capacity}')\n",
        "\n",
        "phone1 = Phone('Samsung','S23', 5)\n",
        "tab = Tablet('Poco','F5', 4.8)\n",
        "phone1.display()\n",
        "tab.display()"
      ],
      "metadata": {
        "colab": {
          "base_uri": "https://localhost:8080/"
        },
        "id": "3bmLWUKUC8FH",
        "outputId": "d3f0ef5f-abea-4b7c-a49b-4d37968d04ec"
      },
      "execution_count": 12,
      "outputs": [
        {
          "output_type": "stream",
          "name": "stdout",
          "text": [
            "Brand is Samsung\n",
            "Model is S23\n",
            "Screen size is 5\n",
            "Brand is Poco\n",
            "Model is F5\n",
            "Battery capacity is 4.8\n"
          ]
        }
      ]
    },
    {
      "cell_type": "code",
      "source": [
        "'''\n",
        "10. Create a base class called \"BankAccount\" with attributes like \"account_number\" and\n",
        "\"balance.\" Derive two classes, \"SavingsAccount\" and \"CheckingAccount,\" from\n",
        "\"BankAccount.\" Add specific methods like \"calculate_interest\" for the\n",
        "\"SavingsAccount\" class and \"deduct_fees\" for the \"CheckingAccount\" class.\n",
        "\n",
        "Ans:\n",
        "\n",
        "'''"
      ],
      "metadata": {
        "id": "WBh_xsK1EXWy"
      },
      "execution_count": null,
      "outputs": []
    },
    {
      "cell_type": "code",
      "source": [
        "# Base class BanckAccount\n",
        "\n",
        "# Base class Device\n",
        "\n",
        "class BankAccount:\n",
        "  def __init__(self, account_number, balance):\n",
        "    self.account_number = account_number\n",
        "    self.balance = balance\n",
        "  def display(self):\n",
        "    print(f'Account number is {self.account_number}')\n",
        "    print(f'Balance is {self.balance}')\n",
        "\n",
        "# Derrived class SavingsAccount\n",
        "class SavingsAccount(BankAccount):\n",
        "  def __init__(self, account_number, balance):\n",
        "    super().__init__(account_number, balance)\n",
        "\n",
        "  def calculate_interest(self, amnt, intrest_rate, time_Period):\n",
        "    interest = amnt * intrest_rate * time_Period / 100\n",
        "    print(f'Intrest amount is : {interest}')\n",
        "\n",
        "# Derrived class CheckingAccount\n",
        "class CheckingAccount(BankAccount):\n",
        "  def __init__(self, account_number, balance):\n",
        "    super().__init__(account_number, balance)\n",
        "\n",
        "  def deduct_fees(self, fee):\n",
        "    if fee <= self.balance:\n",
        "      self.balance -= fee\n",
        "      print(\"Fees deducted from account\")\n",
        "    else:\n",
        "      print(f'Not enough balance in account to deduct fee')\n",
        "\n",
        "savings = SavingsAccount('A1234', 10000)\n",
        "checking = CheckingAccount('C1212', 120000)\n",
        "savings.calculate_interest(10000,13,2)\n",
        "savings.display()\n",
        "checking.deduct_fees(120)\n",
        "checking.display()\n"
      ],
      "metadata": {
        "colab": {
          "base_uri": "https://localhost:8080/"
        },
        "id": "kExWuHu6EdYl",
        "outputId": "6dfe8e44-71ba-425a-cc6d-2ea567dffc37"
      },
      "execution_count": 14,
      "outputs": [
        {
          "output_type": "stream",
          "name": "stdout",
          "text": [
            "Intrest amount is : 2600.0\n",
            "Account number is A1234\n",
            "Balance is 10000\n",
            "Fees deducted from account\n",
            "Account number is C1212\n",
            "Balance is 119880\n"
          ]
        }
      ]
    }
  ]
}