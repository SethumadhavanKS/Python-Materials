{
  "nbformat": 4,
  "nbformat_minor": 0,
  "metadata": {
    "colab": {
      "provenance": []
    },
    "kernelspec": {
      "name": "python3",
      "display_name": "Python 3"
    },
    "language_info": {
      "name": "python"
    }
  },
  "cells": [
    {
      "cell_type": "markdown",
      "source": [
        "1. In the below elements which of them are values or an expression? eg:- values can be\n",
        "integer or string and expressions will be mathematical operators.\n",
        " <br>*\n",
        "<br>&#39;hello&#39;\n",
        "<br>-87.8\n",
        "<br>-\n",
        "<br>/\n",
        "<br>+\n",
        "<br>6\n"
      ],
      "metadata": {
        "id": "dz_jm1jJ016Q"
      }
    },
    {
      "cell_type": "markdown",
      "source": [
        "Answer:\n",
        "<br>Values:\n",
        "\n",
        "<li>'hello'\n",
        "<li>-87.8\n",
        "<li>6\n",
        "\n",
        "Expressions:\n",
        "<li>*\n",
        "<li>-\n",
        "<li>/\n",
        "<li>+"
      ],
      "metadata": {
        "id": "wGCwYXbi1XRh"
      }
    },
    {
      "cell_type": "markdown",
      "source": [
        "2.What is the difference between string and variable?\n",
        "<br> Answer:\n",
        "<br> Strings are data types and variables are used to store values or data.\n",
        "<br> Variables can store data of type string.\n",
        "<br> eg: a = \"Name\" - Here a is the variable which store string data \"Name\""
      ],
      "metadata": {
        "id": "GLcAR47X14K_"
      }
    },
    {
      "cell_type": "markdown",
      "source": [
        "3.Describe three different data types.\n",
        "<br> Answer:\n",
        "<li> Integer - Integer data types are used for numbers without decimal parts.\n",
        "<br>Integer numbers can be either postive or negative or 0.\n",
        "<br> eg: 1, 10, 0, -2\n",
        "<br>\n",
        "<li> Float - Float data types are used for numbers with decimal part.\n",
        "<br> eg : 1.002, -2.234, 0.234, 0.0\n",
        "<br>\n",
        "<li> String - Strings data types are used for letters or alpha numeric or characters. String data should enclosed in double or single quotes.\n",
        "<br> eg: 'Age', 'Sethu123', 'Pswd@1234'"
      ],
      "metadata": {
        "id": "AXQ3cdbC3IMW"
      }
    },
    {
      "cell_type": "markdown",
      "source": [
        "4.What is an expression made up of? What do all expressions do?\n",
        "<br>Answer:\n",
        "<br> Expressions are madeup of operands and operators.\n",
        "<br> Expressions will do particular operations and produce a value when it is executed.\n",
        "<br> eg: a+=1, 2*2, a>b"
      ],
      "metadata": {
        "id": "7KGem-7o4_mi"
      }
    },
    {
      "cell_type": "markdown",
      "source": [
        "5.This assignment statements, like spam = 10. What is the difference between an\n",
        "expression and a statement?\n",
        "<br> Answer: <br>Expressions is evaluated to produce a result, where statments can't. Statement can assign a value to a variable or print values.\n",
        "<br> Expression contains operands and operaators to perform operations.\n",
        "<br> eg: a=10 is a statement were a + 10 is an expression"
      ],
      "metadata": {
        "id": "zFjKdQmU60gg"
      }
    },
    {
      "cell_type": "markdown",
      "source": [
        "6. After running the following code, what does the variable bacon contain?\n",
        "<br>bacon = 22\n",
        "<br>bacon + 1\n",
        "\n",
        "<br><br> Answer:\n",
        "<br> 22"
      ],
      "metadata": {
        "id": "nfn845RN9V_p"
      }
    },
    {
      "cell_type": "markdown",
      "source": [
        "7. What should the values of the following two terms be?\n",
        "<br>&#39;spam&#39; + &#39;spamspam&#39;\n",
        "<br>&#39;spam&#39; * 3\n",
        "<br><br>Answer:\n",
        "<br>spamspamspam\n",
        "<br>spamspamspam"
      ],
      "metadata": {
        "id": "Z_YNWQQy9q6T"
      }
    },
    {
      "cell_type": "markdown",
      "source": [
        "8. Why is eggs a valid variable name while 100 is invalid?\n",
        "<br><br>Answer:<br>\n",
        "A variable name must starts with a letter or underscore"
      ],
      "metadata": {
        "id": "ZxsN5Dqy-g2P"
      }
    },
    {
      "cell_type": "markdown",
      "source": [
        "9.What three functions can be used to get the integer, floating-point number, or string\n",
        "version of a value?\n",
        "<br><br>Answer:\n",
        "<br>int(), float() and str()"
      ],
      "metadata": {
        "id": "zEcdhcDq-2Xm"
      }
    },
    {
      "cell_type": "markdown",
      "source": [
        "10. Why does this expression cause an error? How can you fix it?\n",
        "&#39;I have eaten &#39; + 99 + &#39; burritos.&#39;\n",
        "<br><br>Answer:\n",
        "<br>Here 99 is interger and other two are string type.\n",
        "<br>&#39;I have eaten &#39; +  &#39;99 &#39; + &#39; burritos.&#39;\n"
      ],
      "metadata": {
        "id": "BBUPTnFy_R1o"
      }
    }
  ]
}