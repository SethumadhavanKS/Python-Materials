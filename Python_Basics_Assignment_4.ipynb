{
  "nbformat": 4,
  "nbformat_minor": 0,
  "metadata": {
    "colab": {
      "provenance": []
    },
    "kernelspec": {
      "name": "python3",
      "display_name": "Python 3"
    },
    "language_info": {
      "name": "python"
    }
  },
  "cells": [
    {
      "cell_type": "code",
      "execution_count": null,
      "metadata": {
        "id": "bsMPmXVvP7u0"
      },
      "outputs": [],
      "source": [
        "1. What exactly is []?\n",
        "\n",
        "Ans: Empty list, list is a mutable, ordered collection of hetrogenious data"
      ]
    },
    {
      "cell_type": "code",
      "source": [
        "2. In a list of values stored in a variable called spam, how would you assign the value 'hello' as the third value? (Assume [2, 4, 6, 8, 10] are in spam.)\n",
        "\n",
        "Ans: spam[2] = 'hello'"
      ],
      "metadata": {
        "id": "lz45guq4QgnL"
      },
      "execution_count": null,
      "outputs": []
    },
    {
      "cell_type": "code",
      "source": [
        "Let's pretend the spam includes the list ['a', 'b', 'c', 'd'] for the next three queries.\n",
        "3. What is the value of spam[int(int('3' * 2) / 11)]?\n",
        "\n",
        "Ans: d"
      ],
      "metadata": {
        "id": "09gcIdnzRYub"
      },
      "execution_count": null,
      "outputs": []
    },
    {
      "cell_type": "code",
      "source": [
        "4. What is the value of spam[-1]?\n",
        "\n",
        "Ans: d"
      ],
      "metadata": {
        "id": "x9pjWwu0Rzj3"
      },
      "execution_count": null,
      "outputs": []
    },
    {
      "cell_type": "code",
      "source": [
        "\n",
        "5. What is the value of spam[:2]?\n",
        "\n",
        "Ans: ['a', 'b']"
      ],
      "metadata": {
        "id": "lnWDhttBR6ey"
      },
      "execution_count": null,
      "outputs": []
    },
    {
      "cell_type": "code",
      "source": [
        "Let's pretend bacon has the list [3.14, 'cat,' 11, 'cat,' True] for the next three questions.\n",
        "6. What is the value of bacon.index('cat')?\n",
        "\n",
        "Ans: 1\n"
      ],
      "metadata": {
        "id": "Zcmdy0xASQRv"
      },
      "execution_count": null,
      "outputs": []
    },
    {
      "cell_type": "code",
      "source": [
        "7. How does bacon.append(99) change the look of the list value in bacon?\n",
        "\n",
        "Ans: 99 will add as last element of bacon\n",
        "[3.14, 'cat,' 11, 'cat,' True, 99]"
      ],
      "metadata": {
        "id": "kFaglr7rSXZ2"
      },
      "execution_count": null,
      "outputs": []
    },
    {
      "cell_type": "code",
      "source": [
        "8. How does bacon.remove('cat') change the look of the list in bacon?\n",
        "\n",
        "Ans: 'cat' in index 1 will be removed\n",
        "Result\n",
        "[3.14, 11, 'cat', True]\n",
        "\n",
        "\n"
      ],
      "metadata": {
        "id": "ZT-Ri6f_SviS"
      },
      "execution_count": null,
      "outputs": []
    },
    {
      "cell_type": "code",
      "source": [
        "\n",
        "9. What are the list concatenation and list replication operators?\n",
        "\n",
        "Ans: + is the list concatnation operator. It is used to combine 2 lists by add a list in end of another list\n",
        "\n",
        "eg: [1,3,4] + [5,6] is [1,3,4,5,6]\n",
        "\n",
        "* is the list replication operator. It is used to repeat same list given number of times\n",
        "\n",
        "eg: [1,2,3] * 2 is [1,2,3,1,2,3]\n",
        "\n"
      ],
      "metadata": {
        "id": "k_GD1_uwT12F"
      },
      "execution_count": null,
      "outputs": []
    },
    {
      "cell_type": "code",
      "source": [
        "10. What is difference between the list methods append() and insert()?\n",
        "\n",
        "Ans: append() will insert new element in end of the list.\n",
        "But insert() will add element in specified index.\n",
        "append() takes one argument, new element were insert() takes two arguments, index position and element"
      ],
      "metadata": {
        "id": "a-eQMCrfVUQi"
      },
      "execution_count": null,
      "outputs": []
    },
    {
      "cell_type": "code",
      "source": [
        "11. What are the two methods for removing items from a list?\n",
        "\n",
        "Ans: pop() and remove(). pop() will return the removed item were remove won't."
      ],
      "metadata": {
        "id": "fTYBRLweWOif"
      },
      "execution_count": null,
      "outputs": []
    },
    {
      "cell_type": "code",
      "source": [
        "12. Describe how list values and string values are identical.\n",
        "\n",
        "Ans: We can access element in a list and characters in a string in same way by specifying index.\n",
        "Also we can slice list and string in similar way.\n",
        "And using for loop , we can iterate though each items i a list or string.\n",
        "\n",
        "eg: s = 'name'\n",
        "lst = [1,2,3]\n",
        "s[3]\n",
        "lst[3]\n",
        "\n",
        "for a in s:\n",
        "  print(a)\n",
        "\n",
        "for i in lst:\n",
        "  print(i)\n"
      ],
      "metadata": {
        "id": "d46zhEO2Xew8"
      },
      "execution_count": null,
      "outputs": []
    },
    {
      "cell_type": "code",
      "source": [
        "13. What's the difference between tuples and lists?\n",
        "\n",
        "Ans: tuples are immuttable were lists are mutable. That is elements in list can be modified.\n",
        "Elements in tuple are enclosed in () were elements in list are enclosed in []\n",
        "List can be initialised or created using function list(), tuple can be created using function tuple()"
      ],
      "metadata": {
        "id": "U0IMCvpJY4Es"
      },
      "execution_count": null,
      "outputs": []
    },
    {
      "cell_type": "code",
      "source": [
        "14. How do you type a tuple value that only contains the integer 42?\n",
        "\n",
        "Ans: tup = (42)"
      ],
      "metadata": {
        "id": "OLTsSBl6ZmaX"
      },
      "execution_count": null,
      "outputs": []
    },
    {
      "cell_type": "code",
      "source": [
        "15. How do you get a list value's tuple form? How do you get a tuple value's list form?\n",
        "\n",
        "Ans: Using functions list() and tuple()\n",
        "\n",
        "eg: tup1 = (1,2,3)\n",
        "lst1 = list(tup1)\n",
        "\n",
        "lst2 = [4,5]\n",
        "tup2 = tuple(lst2)"
      ],
      "metadata": {
        "id": "Bs-QnE3KaL5J"
      },
      "execution_count": null,
      "outputs": []
    },
    {
      "cell_type": "code",
      "source": [
        "16. Variables that \"contain\" list values are not necessarily lists themselves. Instead, what do they contain?\n",
        "\n",
        "Ans: Reference to the list that contains list values"
      ],
      "metadata": {
        "id": "Elkp9Z-sai8R"
      },
      "execution_count": null,
      "outputs": []
    },
    {
      "cell_type": "code",
      "source": [
        "17. How do you distinguish between copy.copy() and copy.deepcopy()?\n",
        "\n",
        "Ans: Both copy() and deepcopy() are used to copy values of a list to a new list.\n",
        "Difference is, when we create a new list from a list, using copy(), the new list and existing list will have different memory address,\n",
        " but the element in both list have same memory address. It is like both list sharing same data.\n",
        " So if we update an element in one of list, it will reflect in both the list.\n",
        "\n",
        " deepcopy() will create new list and data in a new memory location. So memory address of both the list and memory address of data in both list will be different.\n",
        " If we update values in any of the list won't reflect in the other one"
      ],
      "metadata": {
        "id": "f3Gt2C1abHt8"
      },
      "execution_count": null,
      "outputs": []
    }
  ]
}