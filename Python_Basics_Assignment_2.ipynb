{
  "nbformat": 4,
  "nbformat_minor": 0,
  "metadata": {
    "colab": {
      "provenance": []
    },
    "kernelspec": {
      "name": "python3",
      "display_name": "Python 3"
    },
    "language_info": {
      "name": "python"
    }
  },
  "cells": [
    {
      "cell_type": "code",
      "execution_count": null,
      "metadata": {
        "id": "jFY6GUKCAWxA"
      },
      "outputs": [],
      "source": [
        "1.What are the two values of the Boolean data type? How do you write them?\n",
        "\n",
        "Ans: True , False"
      ]
    },
    {
      "cell_type": "code",
      "source": [
        "2.What are the three different types of Boolean operators?\n",
        "\n",
        "Ans: and , or , not"
      ],
      "metadata": {
        "id": "HF-Py6v3Akry"
      },
      "execution_count": null,
      "outputs": []
    },
    {
      "cell_type": "markdown",
      "source": [
        "3. Make a list of each Boolean operator&#39;s truth tables (i.e. every possible combination of Boolean\n",
        "values for the operator and what it evaluate ).\n",
        "\n",
        "*   And\n",
        "\n",
        "\n",
        "<table><tr><th>Value1<th>Value2<th>Result</tr>\n",
        "<tr><th>True<th>True<th>True</tr>\n",
        "<tr><th>True<th>False<th>False</tr>\n",
        "<tr><th>False<th>True<th>False</tr>\n",
        "<tr><th>False<th>False<th>False</tr>\n",
        "</table>\n",
        "\n",
        "<br>\n",
        "\n",
        "*   Or\n",
        "\n",
        "\n",
        "<table><tr><th>Value1<th>Value2<th>Result</tr>\n",
        "<tr><th>True<th>True<th>True</tr>\n",
        "<tr><th>True<th>False<th>True</tr>\n",
        "<tr><th>False<th>True<th>True</tr>\n",
        "<tr><th>False<th>False<th>False</tr>\n",
        "</table>\n",
        "<br>\n",
        "*   Not\n",
        "\n",
        "\n",
        "<table><tr><th>Value1<th>Result</tr>\n",
        "<tr><th>True<th>False</tr>\n",
        "<tr><th>False<th>True</tr>\n",
        "</table>"
      ],
      "metadata": {
        "id": "aGqaG2xjA7mE"
      }
    },
    {
      "cell_type": "code",
      "source": [],
      "metadata": {
        "id": "fOjCLc--CtMk"
      },
      "execution_count": null,
      "outputs": []
    },
    {
      "cell_type": "markdown",
      "source": [
        "4. What are the values of the following expressions? <br>\n",
        "<br>(5 &gt; 4) and (3 == 5)\n",
        "<br>not (5 &gt; 4)\n",
        "<br>(5 &gt; 4) or (3 == 5)\n",
        "<br>not ((5 &gt; 4) or (3 == 5))\n",
        "<br>(True and True) and (True == False)\n",
        "<br>(not False) or (not True)\n",
        "\n",
        "<br><br>Answer:\n",
        "<br>(5 &gt; 4) and (3 == 5) <b>- False </b>\n",
        "<br>not (5 &gt; 4) <b>- False </b>\n",
        "<br>(5 &gt; 4) or (3 == 5) <b>- True </b>\n",
        "<br>not ((5 &gt; 4) or (3 == 5)) <b>- False </b>\n",
        "<br>(True and True) and (True == False) <b>- False </b>\n",
        "<br>(not False) or (not True) <b>- True </b>"
      ],
      "metadata": {
        "id": "so0PIk9yC7H2"
      }
    },
    {
      "cell_type": "code",
      "source": [
        "5. What are the six comparison operators?\n",
        "Ans: <, >, <=, >=, ==, !="
      ],
      "metadata": {
        "id": "A9FGPd-CD8jR"
      },
      "execution_count": null,
      "outputs": []
    },
    {
      "cell_type": "code",
      "source": [
        "6.How do you tell the difference between the equal to and assignment operators?Describe a\n",
        "condition and when you would use one.\n",
        "\n",
        "Ans: Assignment operator consist of only one equals symbol, were equal to operator consist of two equals symbol.\n",
        "When we assign a value to an variable, we use assignment operator. eg: a=9\n",
        "When we check two values or values of two variables or expressions are same, we use equal to operator. eg: 1 == 2"
      ],
      "metadata": {
        "id": "_OqT5VCzEGHd"
      },
      "execution_count": null,
      "outputs": []
    },
    {
      "cell_type": "markdown",
      "source": [
        "7. Identify the three blocks in this code:\n",
        "<br>spam = 0\n",
        "<br>if spam == 10:\n",
        "<br>print(&#39;eggs&#39;)\n",
        "<br>if spam &gt; 5:\n",
        "<br>print(&#39;bacon&#39;)\n",
        "<br>else:\n",
        "<br>print(&#39;ham&#39;)\n",
        "<br>print(&#39;spam&#39;)\n",
        "<br>print(&#39;spam&#39;)\n",
        "\n",
        "<br><br>Ans:\n",
        "<br> Block 1:\n",
        "<br>print(&#39;eggs&#39;)\n",
        "\n",
        "<br> Block 2:\n",
        "<br>print(&#39;bacon&#39;)\n",
        "\n",
        "<br> Block 3:\n",
        "<br>print(&#39;ham&#39;)\n",
        "<br>print(&#39;spam&#39;)\n",
        "<br>print(&#39;spam&#39;)\n"
      ],
      "metadata": {
        "id": "j-gPakxJDp0X"
      }
    },
    {
      "cell_type": "code",
      "source": [
        "8. Write code that prints Hello if 1 is stored in spam, prints Howdy if 2 is stored in spam, and prints\n",
        "Greetings! if anything else is stored in spam.\n",
        "\n",
        "spam = int(input(\"Enter spam (integer number)\"))\n",
        "if spam ==1:\n",
        "  print(\"Hello\")\n",
        "elif spam ==2:\n",
        "  print(\"Howdy\")\n",
        "else:\n",
        "  print(\"Greetings!\")"
      ],
      "metadata": {
        "id": "Rjr1BmsEGY0D"
      },
      "execution_count": null,
      "outputs": []
    },
    {
      "cell_type": "code",
      "source": [
        "9.If your programme is stuck in an endless loop, what keys you’ll press?\n",
        "\n",
        "Ans: Ctrl + C"
      ],
      "metadata": {
        "id": "Ki7deDm1HGx_"
      },
      "execution_count": null,
      "outputs": []
    },
    {
      "cell_type": "code",
      "source": [
        "10.How can you tell the difference between break and continue?\n",
        "\n",
        "Ans: Both break and continue keywords are used inside loops.\n",
        "break will terminate the loop and continue will terminate current iteration and starts next iternation."
      ],
      "metadata": {
        "id": "8BPHTrhFHTYr"
      },
      "execution_count": null,
      "outputs": []
    },
    {
      "cell_type": "code",
      "source": [
        "11. In a for loop, what is the difference between range(10), range(0, 10), and range(0, 10, 1)?\n",
        "\n",
        "Ans: All 3 range function generates same sequence 0 to 9. Difference is the number of arguments passed. In range(10), only end is mentioned, so by deafult it will start from 0\n",
        "In range(0,10), both start and end is mentioned , in range(0,10,1) start, end and how many values to skip after each elements are mentioned."
      ],
      "metadata": {
        "id": "Ayn2Q2Z2IYtD"
      },
      "execution_count": null,
      "outputs": []
    },
    {
      "cell_type": "code",
      "source": [
        "12.Write a short program that prints the numbers 1 to 10 using a for loop. Then write an equivalent\n",
        "program that prints the numbers 1 to 10 using a while loop.\n",
        "\n",
        "Ans:\n",
        "\n",
        "for i in range(1,11):\n",
        "  print(i)\n",
        "\n",
        "i = 1\n",
        "while i<=10:\n",
        "  print(i)\n",
        "  i+=1"
      ],
      "metadata": {
        "id": "tnhnl2j6KGyi"
      },
      "execution_count": null,
      "outputs": []
    },
    {
      "cell_type": "code",
      "source": [
        "13. If you had a function named bacon() inside a module named spam, how would you call it after\n",
        "importing spam?\n",
        "\n",
        "Ans:\n",
        "spam.bacon()"
      ],
      "metadata": {
        "id": "MP-U7d9qK0-D"
      },
      "execution_count": null,
      "outputs": []
    },
    {
      "cell_type": "markdown",
      "source": [],
      "metadata": {
        "id": "C0xyKqxGGQFF"
      }
    }
  ]
}