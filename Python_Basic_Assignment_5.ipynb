{
  "nbformat": 4,
  "nbformat_minor": 0,
  "metadata": {
    "colab": {
      "provenance": []
    },
    "kernelspec": {
      "name": "python3",
      "display_name": "Python 3"
    },
    "language_info": {
      "name": "python"
    }
  },
  "cells": [
    {
      "cell_type": "code",
      "execution_count": null,
      "metadata": {
        "id": "3fIZ6kJzgORg"
      },
      "outputs": [],
      "source": [
        "1. What does an empty dictionary's code look like?\n",
        "\n",
        "Ans: dict1 = {}"
      ]
    },
    {
      "cell_type": "code",
      "source": [
        "2. What is the value of a dictionary value with the key 'foo' and the value 42?\n",
        "\n",
        "Ans: dict1 = {'foo':42}"
      ],
      "metadata": {
        "id": "GX0HOk7vgapQ"
      },
      "execution_count": null,
      "outputs": []
    },
    {
      "cell_type": "code",
      "source": [
        "3. What is the most significant distinction between a dictionary and a list?\n",
        "\n",
        "Ans: List values can be accessed using the index were dictionary values can be accessed using the key which is giveen by the user.\n",
        "Dictionary stores data as key value pair enclosed in {} seperated by comma\n",
        "List stores data as a sequence enclosed in () seperated by comma"
      ],
      "metadata": {
        "id": "DiQmFKjcgwMb"
      },
      "execution_count": null,
      "outputs": []
    },
    {
      "cell_type": "code",
      "source": [
        "4. What happens if you try to access spam['foo'] if spam is {'bar': 100}\n",
        "\n",
        "Ans: It will throw a KeyError since 'foo' is not present in spam"
      ],
      "metadata": {
        "id": "vpl7e10OhQVI"
      },
      "execution_count": null,
      "outputs": []
    },
    {
      "cell_type": "code",
      "source": [
        "5. If a dictionary is stored in spam, what is the difference between the expressions 'cat' in spam and 'cat' in spam.keys()?\n",
        "\n",
        "Ans: No difference. Both expression checks whether 'cat' is present as a key in dictionary spam and returns either True or False"
      ],
      "metadata": {
        "id": "Vp7mMjeEho0o"
      },
      "execution_count": null,
      "outputs": []
    },
    {
      "cell_type": "code",
      "source": [
        "6. If a dictionary is stored in spam, what is the difference between the expressions 'cat' in spam and 'cat' in spam.values()?\n",
        "\n",
        "Ans: 'cat' in spam checks whether 'cat' is present as a key in dictionary spam\n",
        "'cat' in spam.values() checks whether 'cat' is present as a value in dictionary spam. spam.values() will give list of all values in dictionary spam"
      ],
      "metadata": {
        "id": "dsHEqJ_Eiy7a"
      },
      "execution_count": null,
      "outputs": []
    },
    {
      "cell_type": "code",
      "source": [
        "7. What is a shortcut for the following code?\n",
        "if 'color' not in spam:\n",
        "spam['color'] = 'black'\n",
        "\n",
        "Ans: spam['color'] = 'black' if 'color' not in spam else spam['color']"
      ],
      "metadata": {
        "id": "9rtIOvzvjebu"
      },
      "execution_count": null,
      "outputs": []
    },
    {
      "cell_type": "code",
      "source": [
        "8. How do you \"pretty print\" dictionary values using which module and function?\n",
        "\n",
        "Ans: pretty print in python can be use for print dictionaries in a formatted way.\n",
        "pprint function in pprint module is used to pretty print a dictionary\n",
        "\n",
        "eg: import pprint\n",
        "dict1 = {'name', 'Sethu'}\n",
        "pprint.pprint(dict1)"
      ],
      "metadata": {
        "id": "m8VQXZMzoPX-"
      },
      "execution_count": null,
      "outputs": []
    }
  ]
}