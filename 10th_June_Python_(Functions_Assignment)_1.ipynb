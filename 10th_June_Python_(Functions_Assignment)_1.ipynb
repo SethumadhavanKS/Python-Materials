{
  "nbformat": 4,
  "nbformat_minor": 0,
  "metadata": {
    "colab": {
      "provenance": []
    },
    "kernelspec": {
      "name": "python3",
      "display_name": "Python 3"
    },
    "language_info": {
      "name": "python"
    }
  },
  "cells": [
    {
      "cell_type": "code",
      "execution_count": null,
      "metadata": {
        "id": "hAndbETT-OcE"
      },
      "outputs": [],
      "source": [
        "1. In Python, what is the difference between a built-in function and a user-defined function? Provide an\n",
        "example of each.\n",
        "\n",
        "Ans:\n",
        "built-in functions are predefined functions available in Python . It is already defined and we can directly use it by calling it.\n",
        "eg : print(), list(), input(),len()\n",
        "\n",
        "User-defined functions are functions that created and defined by user. Suppose if we want to do a task and there is no predefined functions for it, then we can create owr own functions.\n",
        "eg: def addnum():\n",
        "      return 10 + 12\n",
        "  Here addnum() is a user defined functions which returns 22"
      ]
    },
    {
      "cell_type": "code",
      "source": [
        "2. How can you pass arguments to a function in Python? Explain the difference between positional\n",
        "arguments and keyword arguments.\n",
        "\n",
        "Ans: Arguments can be passed to a function when we call a functions. Arguments can be given inside paranthesis after function name.\n",
        "eg: sum = add(a,b) - Here a and b are two arguments passed to functions add()\n",
        "\n",
        "Positional and keyword arguments - By default, when we pass values as arguments of a functions, these values are assigned to local variables in function defenition based on the postion of argument values.\n",
        "    eg: def add( a, b):\n",
        "          sum = a+b\n",
        "          return sum\n",
        "\n",
        "        add(2,3)\n",
        "        Here 2 is assigned to a and 3 is assigned to b based on position of 2 and 3.\n",
        "\n",
        "  There is another way of passing arguments by mentioning name of the variables. In this way the arguments values assigns to variables by the names we are specifying rather than  the arguments position\n",
        "\n",
        "  eg: add( b=4, a = 10) -\n",
        "  Here in the function defenition itself , 10 will assign to a and 4 will assign to b.\n",
        "\n",
        "  Also we can mention postional arguments by giving * and keyword arguments by giving ** in function defenition and function call.\n",
        "  eg: def posKeyArgs(*posArg, **keyArg):\n",
        "  print(posArg)\n",
        "  print(keyArg)\n",
        "\n",
        "lst = [1,2,3]\n",
        "dict1 = {'name':'Sethu','age':26}\n",
        "posKeyArgs(*lst, **dict1)\n",
        "\n",
        "Here *lst is positional argument and **dict1 is keyword argument\n"
      ],
      "metadata": {
        "id": "90Lqpb2X_jdl"
      },
      "execution_count": null,
      "outputs": []
    },
    {
      "cell_type": "code",
      "source": [
        "def add(a, b):\n",
        "  print(f'value of a is {a}')\n",
        "  print(f'value of b is {b}')\n",
        "add(1,2)\n",
        "add(b=3, a=5)"
      ],
      "metadata": {
        "colab": {
          "base_uri": "https://localhost:8080/"
        },
        "id": "sEvgz2sQDnDV",
        "outputId": "a259f0f6-1529-4449-dff0-326ef531ed7c"
      },
      "execution_count": 1,
      "outputs": [
        {
          "output_type": "stream",
          "name": "stdout",
          "text": [
            "value of a is 1\n",
            "value of b is 2\n",
            "value of a is 5\n",
            "value of b is 3\n"
          ]
        }
      ]
    },
    {
      "cell_type": "code",
      "source": [
        "def posKeyArgs(*posArg, **keyArg):\n",
        "  print(posArg)\n",
        "  print(keyArg)\n",
        "\n",
        "lst = [1,2,3]\n",
        "dict1 = {'name':'Sethu','age':26}\n",
        "posKeyArgs(*lst, **dict1)\n"
      ],
      "metadata": {
        "colab": {
          "base_uri": "https://localhost:8080/"
        },
        "id": "VxSLfvMBEjiF",
        "outputId": "407bb3cb-07ad-4616-e3a1-fe95101cdb1a"
      },
      "execution_count": 5,
      "outputs": [
        {
          "output_type": "stream",
          "name": "stdout",
          "text": [
            "(1, 2, 3)\n",
            "{'name': 'Sethu', 'age': 26}\n"
          ]
        }
      ]
    },
    {
      "cell_type": "code",
      "source": [
        "3. What is the purpose of the return statement in a function? Can a function have multiple return\n",
        "statements? Explain with an example.\n",
        "\n",
        "Ans: return is used to send value from function to where the function is called.\n",
        "syntax return value.\n",
        "All the statments given after return statement wont executed.\n",
        "so,if we give multiple return statement in a funcion, only first return statement will be executed and its value will be returned.\n",
        "\n",
        "eg:\n"
      ],
      "metadata": {
        "id": "72wBGxRTFkEx"
      },
      "execution_count": null,
      "outputs": []
    },
    {
      "cell_type": "code",
      "source": [
        "def func():\n",
        "  return 2\n",
        "  return 3\n",
        "  return 4\n",
        "\n",
        "num = func()\n",
        "print(num)"
      ],
      "metadata": {
        "colab": {
          "base_uri": "https://localhost:8080/"
        },
        "id": "vAGJSzwzHc3W",
        "outputId": "960fa4fb-5ab2-4cf2-ac0e-5b029801d04d"
      },
      "execution_count": 6,
      "outputs": [
        {
          "output_type": "stream",
          "name": "stdout",
          "text": [
            "2\n"
          ]
        }
      ]
    },
    {
      "cell_type": "code",
      "source": [
        "4. What are lambda functions in Python? How are they different from regular functions? Provide an\n",
        "example where a lambda function can be useful.\n",
        "\n",
        "Ans: Lambda function is a special type of functions in python, they are simple and single line functions.\n",
        "They can't have complex loops or complex code in function defenition.\n",
        "No need to use def keyword to define lambda function, insted lambda keyword is used.\n",
        "Lambd functions are used inside map(), filter(), sorted() functions.\n",
        "\n",
        "eg:\n"
      ],
      "metadata": {
        "id": "HWktb-tgHtNq"
      },
      "execution_count": null,
      "outputs": []
    },
    {
      "cell_type": "code",
      "source": [
        "sqr = lambda x: x ** 2\n",
        "print(sqr(4))"
      ],
      "metadata": {
        "colab": {
          "base_uri": "https://localhost:8080/"
        },
        "id": "KP_MbhD2I9aC",
        "outputId": "56b2ea50-2446-4dce-bf80-eb7e9be49adb"
      },
      "execution_count": 7,
      "outputs": [
        {
          "output_type": "stream",
          "name": "stdout",
          "text": [
            "16\n"
          ]
        }
      ]
    },
    {
      "cell_type": "code",
      "source": [
        "How does the concept of \"scope\" apply to functions in Python? Explain the difference between local\n",
        "scope and global scope.\n",
        "\n",
        "Ans: Variables assigned outside all functions or any block (like for, if , while) have global scopes in the code. These variables are accessible in every part of the code.\n",
        "Variables assigned inside any function have local scope. These variables are accessible only with in the funcions. Local variables are terminated when function call returns.\n",
        "\n",
        "We can use global keyword to create a global varibales inside a functions.\n",
        "\n",
        "Scope is applicable to functions and other data types too.\n",
        "A function defined another function is not accessible outside the parent function.\n",
        "\n",
        "eg: def myfunc():\n",
        "        a =10\n",
        "        b =20\n",
        "       sum = a + b\n",
        "       print(sum)\n",
        "    mark = 10\n",
        "    myfuncc()\n",
        "\n",
        "       here a,b and sum are sum have local scope and mark have global scope."
      ],
      "metadata": {
        "id": "XFuxLv8hJNmG"
      },
      "execution_count": null,
      "outputs": []
    },
    {
      "cell_type": "code",
      "source": [
        "6. How can you use the \"return\" statement in a Python function to return multiple values?\n",
        "\n",
        "Ans: We can return multiple values in a single return statement. Pythin will automatically converts these values as tuples while returning.\n",
        "We can give the values seperated by comma after keyword return inside a function\n",
        "eg:\n"
      ],
      "metadata": {
        "id": "3Cp3jBxdLXg1"
      },
      "execution_count": null,
      "outputs": []
    },
    {
      "cell_type": "code",
      "source": [
        "def myfunct():\n",
        "  a = 10\n",
        "  b = 20\n",
        "  result = a+b\n",
        "  return a,b, result\n",
        "\n",
        "num1,num2,rst = myfunct()\n",
        "print(f'Value of first number is {num1}')\n",
        "print(f'Value of second number is {num2}')\n",
        "print(f'Result is {rst}')"
      ],
      "metadata": {
        "colab": {
          "base_uri": "https://localhost:8080/"
        },
        "id": "k_uz3fKXL_A4",
        "outputId": "aed8c82a-db16-437f-9cd3-d15f0302a7c4"
      },
      "execution_count": 9,
      "outputs": [
        {
          "output_type": "stream",
          "name": "stdout",
          "text": [
            "Value of first number is 10\n",
            "Value of second number is 20\n",
            "Result is 30\n"
          ]
        }
      ]
    },
    {
      "cell_type": "code",
      "source": [
        "7. What is the difference between the \"pass by value\" and \"pass by reference\" concepts when it\n",
        "comes to function arguments in Python?\n",
        "\n",
        "Ans: In pass by value concept, when we pass an variable to a functions, only a copy of the variable is passed.\n",
        "So , if we update the variable inside the function, the value of actual variable wont change since it is a different variable.\n",
        "\n",
        "In pass by reference concept, when we pass a varibale to function, we are passing the actual variable itself. If we update the variable inside the function,\n",
        "it will change the actual value of the variable."
      ],
      "metadata": {
        "id": "dq1O6LAoMy6r"
      },
      "execution_count": null,
      "outputs": []
    },
    {
      "cell_type": "code",
      "source": [
        "8. Create a function that can intake integer or decimal value and do following operations:\n",
        "a. Logarithmic function (log x)\n",
        "b. Exponential function (exp(x))\n",
        "c. Power function with base 2 (2^x)\n",
        "\n",
        "d. Square root\n",
        "\n",
        "Ans:"
      ],
      "metadata": {
        "id": "Zqhjbqh0Qk2v"
      },
      "execution_count": null,
      "outputs": []
    },
    {
      "cell_type": "code",
      "source": [
        "import math\n",
        "number = float(input(\"Enter a number (Integer or decimal)\"))\n",
        "\n",
        "def operations(num):\n",
        "  lg = math.log(num)\n",
        "  ex = math.exp(num)\n",
        "  pow = 2 ** num\n",
        "  sqt = math.sqrt(num)\n",
        "\n",
        "  print(f'log({num }) is {lg}')\n",
        "  print(f'exp({num }) is {ex}')\n",
        "  print(f'2 to the power of {num} is {pow}')\n",
        "  print(f'Square root of {num} is {sqt}')\n",
        "\n",
        "operations(number)"
      ],
      "metadata": {
        "colab": {
          "base_uri": "https://localhost:8080/"
        },
        "id": "egJjIVCXRFxK",
        "outputId": "0e3b60ab-3ca5-4af4-fde3-67b9ed1efb5d"
      },
      "execution_count": 14,
      "outputs": [
        {
          "output_type": "stream",
          "name": "stdout",
          "text": [
            "Enter a number (Integer or decimal)3.3\n",
            "log(3.3) is 1.1939224684724346\n",
            "exp(3.3) is 27.112638920657883\n",
            "2 to the power of 3.3 is 9.849155306759329\n",
            "Square root of 3.3 is 1.816590212458495\n"
          ]
        }
      ]
    },
    {
      "cell_type": "code",
      "source": [
        "9. Create a function that takes a full name as an argument and returns first name and last name.\n",
        "Ans:"
      ],
      "metadata": {
        "id": "DssudqGtTEbc"
      },
      "execution_count": null,
      "outputs": []
    },
    {
      "cell_type": "code",
      "source": [
        "fullname = input(\"Enter full name\")\n",
        "\n",
        "def name(fullname):\n",
        "  listname = fullname.split()\n",
        "  return listname[0],listname[-1]\n",
        "\n",
        "fname,lname = name(fullname)\n",
        "print(f\"First name is {fname}\")\n",
        "print(f\"Last name is {lname}\")"
      ],
      "metadata": {
        "colab": {
          "base_uri": "https://localhost:8080/"
        },
        "id": "Ztx20fc_THiX",
        "outputId": "86df5498-b994-4451-98db-f263ac77beaa"
      },
      "execution_count": 17,
      "outputs": [
        {
          "output_type": "stream",
          "name": "stdout",
          "text": [
            "Enter full nameSethu S Madhavan\n",
            "First name is Sethu\n",
            "Last name is Madhavan\n"
          ]
        }
      ]
    }
  ]
}