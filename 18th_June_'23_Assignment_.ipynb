{
  "nbformat": 4,
  "nbformat_minor": 0,
  "metadata": {
    "colab": {
      "provenance": []
    },
    "kernelspec": {
      "name": "python3",
      "display_name": "Python 3"
    },
    "language_info": {
      "name": "python"
    }
  },
  "cells": [
    {
      "cell_type": "code",
      "execution_count": null,
      "metadata": {
        "id": "OA2HX4p-Z710"
      },
      "outputs": [],
      "source": [
        "'''\n",
        "1. What is the role of the 'else' block in a try-except statement? Provide an example\n",
        "scenario where it would be useful.\n",
        "\n",
        "Ans:\n",
        "else block in try - except will execute if no errors occured in try block.\n",
        "So if we want to excute something if no errors occured, we can give it inside else block.\n",
        "\n",
        "eg:\n",
        "'''"
      ]
    },
    {
      "cell_type": "code",
      "source": [
        "# Example for try catch else block\n",
        "\n",
        "a = 10\n",
        "b = 11\n",
        "\n",
        "try:\n",
        "  rslt = a/b\n",
        "  print(f'Result is {rslt}')\n",
        "except:\n",
        "  print(\"Error occured\")\n",
        "else:\n",
        "  print(\"Program executed successfully withot errors\")\n"
      ],
      "metadata": {
        "colab": {
          "base_uri": "https://localhost:8080/"
        },
        "id": "mHqnRvpjakyZ",
        "outputId": "e480d483-ff50-4ce3-86ba-964ae21bfb0d"
      },
      "execution_count": null,
      "outputs": [
        {
          "output_type": "stream",
          "name": "stdout",
          "text": [
            "Result is 0.9090909090909091\n",
            "Program executed successfully withot errors\n"
          ]
        }
      ]
    },
    {
      "cell_type": "code",
      "source": [
        "'''\n",
        "Can a try-except block be nested inside another try-except block? Explain with an\n",
        "example.\n",
        "\n",
        "Ans:\n",
        "\n",
        "yes, try - except block can nnested inside another try except block\n",
        "'''\n"
      ],
      "metadata": {
        "id": "yQ_92NQvbOdX"
      },
      "execution_count": null,
      "outputs": []
    },
    {
      "cell_type": "code",
      "source": [
        "# Nested try except\n",
        "\n",
        "a = 10\n",
        "b = 10\n",
        "del a\n",
        "try:\n",
        "   print(a/b)\n",
        "except:\n",
        "  try:  # Nested try except\n",
        "    print(a)\n",
        "  except:\n",
        "    print(\"No a\")\n",
        "  try:\n",
        "    print(b)\n",
        "  except:\n",
        "    print(\"No b\")"
      ],
      "metadata": {
        "id": "5HSVf_gLboOg"
      },
      "execution_count": null,
      "outputs": []
    },
    {
      "cell_type": "code",
      "source": [
        "''''\n",
        "3. How can you create a custom exception class in Python? Provide an example that\n",
        "demonstrates its usage.\n",
        "\n",
        "Ans:\n",
        "To create a new custom exception, we have to create a new class for new the new exception derrived from base class Exception.\n",
        "And we can raise this custom exception in code using keyword raise.\n",
        "syntax - raise Exceptionclassname(\"Message)\n",
        "'''"
      ],
      "metadata": {
        "id": "he2SyiTgbxox"
      },
      "execution_count": null,
      "outputs": []
    },
    {
      "cell_type": "code",
      "source": [
        "# Custom exception example\n",
        "\n",
        "class CustomErr(Exception):\n",
        "  pass\n",
        "\n",
        "print(\"Good morning\")\n",
        "num = int(input(\"Enter an integer greater than 3: \"))\n",
        "if num <= 3:\n",
        "  raise CustomErr(\"Number not greater than 3\")\n",
        "else:\n",
        "  print(f'Number is {num}')"
      ],
      "metadata": {
        "colab": {
          "base_uri": "https://localhost:8080/",
          "height": 279
        },
        "id": "h1gYbQ2Mbxz-",
        "outputId": "30aab793-649e-43c0-d895-63623488c7a2"
      },
      "execution_count": null,
      "outputs": [
        {
          "name": "stdout",
          "output_type": "stream",
          "text": [
            "Good morning\n",
            "Enter an integer greater than 3: 2\n"
          ]
        },
        {
          "output_type": "error",
          "ename": "CustomErr",
          "evalue": "ignored",
          "traceback": [
            "\u001b[0;31m---------------------------------------------------------------------------\u001b[0m",
            "\u001b[0;31mCustomErr\u001b[0m                                 Traceback (most recent call last)",
            "\u001b[0;32m<ipython-input-4-19dd9b6c9d14>\u001b[0m in \u001b[0;36m<cell line: 8>\u001b[0;34m()\u001b[0m\n\u001b[1;32m      7\u001b[0m \u001b[0mnum\u001b[0m \u001b[0;34m=\u001b[0m \u001b[0mint\u001b[0m\u001b[0;34m(\u001b[0m\u001b[0minput\u001b[0m\u001b[0;34m(\u001b[0m\u001b[0;34m\"Enter an integer greater than 3: \"\u001b[0m\u001b[0;34m)\u001b[0m\u001b[0;34m)\u001b[0m\u001b[0;34m\u001b[0m\u001b[0;34m\u001b[0m\u001b[0m\n\u001b[1;32m      8\u001b[0m \u001b[0;32mif\u001b[0m \u001b[0mnum\u001b[0m \u001b[0;34m<=\u001b[0m \u001b[0;36m3\u001b[0m\u001b[0;34m:\u001b[0m\u001b[0;34m\u001b[0m\u001b[0;34m\u001b[0m\u001b[0m\n\u001b[0;32m----> 9\u001b[0;31m   \u001b[0;32mraise\u001b[0m \u001b[0mCustomErr\u001b[0m\u001b[0;34m(\u001b[0m\u001b[0;34m\"Number not greater than 3\"\u001b[0m\u001b[0;34m)\u001b[0m\u001b[0;34m\u001b[0m\u001b[0;34m\u001b[0m\u001b[0m\n\u001b[0m\u001b[1;32m     10\u001b[0m \u001b[0;32melse\u001b[0m\u001b[0;34m:\u001b[0m\u001b[0;34m\u001b[0m\u001b[0;34m\u001b[0m\u001b[0m\n\u001b[1;32m     11\u001b[0m   \u001b[0mprint\u001b[0m\u001b[0;34m(\u001b[0m\u001b[0;34mf'Number is {num}'\u001b[0m\u001b[0;34m)\u001b[0m\u001b[0;34m\u001b[0m\u001b[0;34m\u001b[0m\u001b[0m\n",
            "\u001b[0;31mCustomErr\u001b[0m: Number not greater than 3"
          ]
        }
      ]
    },
    {
      "cell_type": "code",
      "source": [
        "'''\n",
        "4. What are some common exceptions that are built-in to Python?\n",
        "\n",
        "Ans:\n",
        "Below given are few built in exceptions in python\n",
        "\n",
        "i. FloatingPointError - Raised when floating point operation fail.\n",
        "ii. IndexError - Raised when the index of a data structure (list , tuple etc) is out of range.\n",
        "iii. MemoryError - Raised when an operation runs out of memory.\n",
        "'''"
      ],
      "metadata": {
        "id": "ccAJbseidY8o"
      },
      "execution_count": null,
      "outputs": []
    },
    {
      "cell_type": "code",
      "source": [
        "'''\n",
        "5. What is logging in Python, and why is it important in software development?\n",
        "\n",
        "Ans:\n",
        "\n",
        "Logs are simply means messages or some informations regarding the code execution.\n",
        "Logging is for monitoring the events happening\n",
        "It is meant to the developers to get informations about the execution flow or any other details.\n",
        "Logging helps to understanding of the flow of a program. If an error occured , we can get more details about the cause of error using logging, and we can debug it easily.\n",
        "Logging also allow us to store the logs in a file in a format specified by the user for future refrence.\n",
        "\n",
        "'''"
      ],
      "metadata": {
        "id": "m0OlsADXdwYF"
      },
      "execution_count": null,
      "outputs": []
    },
    {
      "cell_type": "code",
      "source": [
        "'''\n",
        "6. Explain the purpose of log levels in Python logging and provide examples of when\n",
        "each log level would be appropriate.\n",
        "\n",
        "Ans:\n",
        "Python logging provide different levels for logs.\n",
        "i. Debug\n",
        "11. Info\n",
        "iii. Warning\n",
        "iv. Error\n",
        "v. Critical\n",
        "\n",
        "Using these log levels, we can easily get what type of log is it and the severity of log.\n",
        "\n",
        "Debug - Least severe level, it can use for debug purpose like checking values assigned to a variable\n",
        "Info - Not severe - used when we show any message or any other informations as logs\n",
        "Warning - Sightly severe - Used when we show issues that can become errors in future,\n",
        "Error - Severe - Used to show errors\n",
        "Critical  - used to show critica errors like system issue\n",
        "\n",
        "'''"
      ],
      "metadata": {
        "id": "H0npBjSfgBYH"
      },
      "execution_count": null,
      "outputs": []
    },
    {
      "cell_type": "code",
      "source": [
        "# Logging example\n",
        "import logging\n",
        "\n",
        "logging.basicConfig(level= logging.DEBUG)\n",
        "logging.debug(\"Sample debug message\")\n",
        "logging.info(\"Info message\")\n",
        "logging.warning(\"Warning message\")\n",
        "logging.error(\"Error message\")\n",
        "logging.critical(\"Critical message\")"
      ],
      "metadata": {
        "colab": {
          "base_uri": "https://localhost:8080/"
        },
        "id": "E_xSTqSxhtBX",
        "outputId": "d22d72c9-c88a-468e-baf2-79b2b4bd637d"
      },
      "execution_count": null,
      "outputs": [
        {
          "output_type": "stream",
          "name": "stderr",
          "text": [
            "WARNING:root:Warning message\n",
            "ERROR:root:Error message\n",
            "CRITICAL:root:Critical message\n"
          ]
        }
      ]
    },
    {
      "cell_type": "code",
      "source": [
        "'''\n",
        "7. What are log formatters in Python logging, and how can you customise the log\n",
        "message format using formatters?\n",
        "\n",
        "Ans:\n",
        "log formatters are used to change or customise log message format.\n",
        "We can customise format of log messages store in a file or showing in console.\n",
        "logging.Formatter() method is used for formatting.\n",
        "'''"
      ],
      "metadata": {
        "id": "iiu309AwiOr4"
      },
      "execution_count": null,
      "outputs": []
    },
    {
      "cell_type": "code",
      "source": [
        "#  Customise format of log messages showing in console\n",
        "import logging\n",
        "logger = logging.getLogger()\n",
        "logger.setLevel(logging.WARNING)\n",
        "formatter = logging.Formatter('%(asctime)s : %(levelname)s : %(message)s') # Specifying the format of logs\n",
        "\n",
        "handler = logging.FileHandler(filepath) # Should specify actual file path in the variable\n",
        "handler.setFormatter(formater) # Format added to file handler\n",
        "logger.addHandler(handler)"
      ],
      "metadata": {
        "id": "Ikm3BJn3jl44"
      },
      "execution_count": null,
      "outputs": []
    },
    {
      "cell_type": "code",
      "source": [
        "'''\n",
        "8. How can you set up logging to capture log messages from multiple modules or\n",
        "classes in a Python application?\n",
        "\n",
        "Ans:\n",
        "To use logging inside multiple modules or classes,\n",
        "First we have to define logger in each module, syntax - logger1 = logging.getLogger(__name__) , here __name__ will be module name\n",
        "And we can define the file handler or log format.\n",
        "In the main program, we have to config the logger , syntax - logging.config.fileConfig(path)\n",
        "\n",
        "When we call the module in main program, logger will invoke and parameters will set\n",
        "\n",
        "'''"
      ],
      "metadata": {
        "id": "UwsdSQanl12E"
      },
      "execution_count": null,
      "outputs": []
    },
    {
      "cell_type": "code",
      "source": [
        "'''\n",
        "9. What is the difference between the logging and print statements in Python? When\n",
        "should you use logging over print statements in a real-world application?\n",
        "\n",
        "Ans:\n",
        "print() is a built in function in python , it will simply print the values in the console. We can use print to show any message or print values of some variables when debbugging.\n",
        "But using print for showing execution logs are not the correct way of coding.\n",
        "\n",
        "Logging is the correct way of coding, it provides a systematic way of logs.\n",
        "Logging provides set the level of code, so that we easily get an idea about what type or og is that.\n",
        "Also using logging, we can store the logs in a file which can used for future reference.\n",
        "\n",
        "So in production, we should use logging instead of print()\n",
        "'''"
      ],
      "metadata": {
        "id": "5mFGqQNrpu-O"
      },
      "execution_count": null,
      "outputs": []
    },
    {
      "cell_type": "code",
      "source": [
        "'''\n",
        "10. Write a Python program that logs a message to a file named \"app.log\" with the\n",
        "following requirements:\n",
        "● The log message should be \"Hello, World!\"\n",
        "● The log level should be set to \"INFO.\"\n",
        "● The log file should append new log entries without overwriting previous ones.\n",
        "\n",
        "Ans:\n",
        "'''"
      ],
      "metadata": {
        "id": "GiLJaw7lrbdH"
      },
      "execution_count": null,
      "outputs": []
    },
    {
      "cell_type": "code",
      "source": [
        "#  Program to save log in a file\n",
        "\n",
        "import logging\n",
        "\n",
        "logger = logging.getLogger()\n",
        "logger.setLevel(logging.INFO)\n",
        "format=logging.Formatter('%(asctime)s : %(levelname)s : %(message)s')\n",
        "handler = logging.FileHandler(\"app.log\",mode ='a') # file will open in append mode, so it wont overwrite existing logs in file\n",
        "handler.setFormatter(format)\n",
        "logger.addHandler(handler)\n",
        "def logg():\n",
        "  logger.info(\"Hello, World!\")\n",
        "\n",
        "logg()\n",
        "handler.close()"
      ],
      "metadata": {
        "colab": {
          "base_uri": "https://localhost:8080/"
        },
        "id": "qLq_N0AurnrR",
        "outputId": "c369534e-42c9-4eb4-9cd5-7aff9dd58ab3"
      },
      "execution_count": 2,
      "outputs": [
        {
          "output_type": "stream",
          "name": "stderr",
          "text": [
            "INFO:root:Hello, World!\n",
            "2023-10-02 14:41:04,509 : INFO : Hello, World!\n"
          ]
        }
      ]
    },
    {
      "cell_type": "code",
      "source": [
        "'''\n",
        "11. Create a Python program that logs an error message to the console and a file named\n",
        "\"errors.log\" if an exception occurs during the program's execution. The error\n",
        "message should include the exception type and a timestamp.\n",
        "\n",
        "Ans:\n",
        "'''\n"
      ],
      "metadata": {
        "id": "Lyit39YgurzS"
      },
      "execution_count": null,
      "outputs": []
    },
    {
      "cell_type": "code",
      "source": [
        "# Program to log and error message to console and file if exception occured\n",
        "import logging\n",
        "\n",
        "logger = logging.getLogger()\n",
        "logger.setLevel(logging.INFO)\n",
        "format=logging.Formatter('%(asctime)s : %(levelname)s : %(message)s')\n",
        "handler = logging.FileHandler(\"errors.log\",mode ='a') # File to save log\n",
        "handler.setFormatter(format)\n",
        "logger.addHandler(handler)\n",
        "\n",
        "consoleHandler = logging.StreamHandler() # to show logs in console\n",
        "consoleHandler.setFormatter(format)\n",
        "logger.addHandler(consoleHandler)\n",
        "\n",
        "try:\n",
        "   a = 2\n",
        "   b = 0\n",
        "   c = a/b\n",
        "except Exception as e:\n",
        "   logger.error(type(e).__name__)\n",
        "else:\n",
        "  print('The result of division:', c)\n",
        "\n"
      ],
      "metadata": {
        "colab": {
          "base_uri": "https://localhost:8080/"
        },
        "id": "-SH6afU8wlPN",
        "outputId": "d54f2ce1-9fc0-4115-9a8c-ae30e8dd8017"
      },
      "execution_count": 1,
      "outputs": [
        {
          "output_type": "stream",
          "name": "stderr",
          "text": [
            "ERROR:root:ZeroDivisionError\n",
            "2023-10-02 14:40:53,780 : ERROR : ZeroDivisionError\n"
          ]
        }
      ]
    }
  ]
}